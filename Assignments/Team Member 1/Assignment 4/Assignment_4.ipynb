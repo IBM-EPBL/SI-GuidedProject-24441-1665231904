{
  "nbformat": 4,
  "nbformat_minor": 0,
  "metadata": {
    "colab": {
      "provenance": []
    },
    "kernelspec": {
      "name": "python3",
      "display_name": "Python 3"
    },
    "language_info": {
      "name": "python"
    }
  },
  "cells": [
    {
      "cell_type": "code",
      "execution_count": null,
      "metadata": {
        "id": "nMWTYEYGPd2Q"
      },
      "outputs": [],
      "source": [
        "import pandas as pd \n",
        "import numpy as np\n",
        "import matplotlib.pyplot as plt\n",
        "import seaborn as sns\n",
        "import warnings \n",
        "warnings.filterwarnings('ignore')"
      ]
    },
    {
      "cell_type": "code",
      "source": [
        "d = pd.read_csv(r'abalone.csv')"
      ],
      "metadata": {
        "id": "_LfsLjGnPtBM"
      },
      "execution_count": null,
      "outputs": []
    },
    {
      "cell_type": "code",
      "source": [
        "d.head()"
      ],
      "metadata": {
        "colab": {
          "base_uri": "https://localhost:8080/",
          "height": 206
        },
        "id": "LUvlfrvkPtYL",
        "outputId": "cf76e1ae-0542-4b52-db10-3b8e5c2d129e"
      },
      "execution_count": null,
      "outputs": [
        {
          "output_type": "execute_result",
          "data": {
            "text/plain": [
              "  Sex  Length  Diameter  Height  Whole weight  Shucked weight  Viscera weight  \\\n",
              "0   M   0.455     0.365   0.095        0.5140          0.2245          0.1010   \n",
              "1   M   0.350     0.265   0.090        0.2255          0.0995          0.0485   \n",
              "2   F   0.530     0.420   0.135        0.6770          0.2565          0.1415   \n",
              "3   M   0.440     0.365   0.125        0.5160          0.2155          0.1140   \n",
              "4   I   0.330     0.255   0.080        0.2050          0.0895          0.0395   \n",
              "\n",
              "   Shell weight  Rings  \n",
              "0         0.150     15  \n",
              "1         0.070      7  \n",
              "2         0.210      9  \n",
              "3         0.155     10  \n",
              "4         0.055      7  "
            ],
            "text/html": [
              "\n",
              "  <div id=\"df-d4323a81-b435-478a-b374-1761a6c85071\">\n",
              "    <div class=\"colab-df-container\">\n",
              "      <div>\n",
              "<style scoped>\n",
              "    .dataframe tbody tr th:only-of-type {\n",
              "        vertical-align: middle;\n",
              "    }\n",
              "\n",
              "    .dataframe tbody tr th {\n",
              "        vertical-align: top;\n",
              "    }\n",
              "\n",
              "    .dataframe thead th {\n",
              "        text-align: right;\n",
              "    }\n",
              "</style>\n",
              "<table border=\"1\" class=\"dataframe\">\n",
              "  <thead>\n",
              "    <tr style=\"text-align: right;\">\n",
              "      <th></th>\n",
              "      <th>Sex</th>\n",
              "      <th>Length</th>\n",
              "      <th>Diameter</th>\n",
              "      <th>Height</th>\n",
              "      <th>Whole weight</th>\n",
              "      <th>Shucked weight</th>\n",
              "      <th>Viscera weight</th>\n",
              "      <th>Shell weight</th>\n",
              "      <th>Rings</th>\n",
              "    </tr>\n",
              "  </thead>\n",
              "  <tbody>\n",
              "    <tr>\n",
              "      <th>0</th>\n",
              "      <td>M</td>\n",
              "      <td>0.455</td>\n",
              "      <td>0.365</td>\n",
              "      <td>0.095</td>\n",
              "      <td>0.5140</td>\n",
              "      <td>0.2245</td>\n",
              "      <td>0.1010</td>\n",
              "      <td>0.150</td>\n",
              "      <td>15</td>\n",
              "    </tr>\n",
              "    <tr>\n",
              "      <th>1</th>\n",
              "      <td>M</td>\n",
              "      <td>0.350</td>\n",
              "      <td>0.265</td>\n",
              "      <td>0.090</td>\n",
              "      <td>0.2255</td>\n",
              "      <td>0.0995</td>\n",
              "      <td>0.0485</td>\n",
              "      <td>0.070</td>\n",
              "      <td>7</td>\n",
              "    </tr>\n",
              "    <tr>\n",
              "      <th>2</th>\n",
              "      <td>F</td>\n",
              "      <td>0.530</td>\n",
              "      <td>0.420</td>\n",
              "      <td>0.135</td>\n",
              "      <td>0.6770</td>\n",
              "      <td>0.2565</td>\n",
              "      <td>0.1415</td>\n",
              "      <td>0.210</td>\n",
              "      <td>9</td>\n",
              "    </tr>\n",
              "    <tr>\n",
              "      <th>3</th>\n",
              "      <td>M</td>\n",
              "      <td>0.440</td>\n",
              "      <td>0.365</td>\n",
              "      <td>0.125</td>\n",
              "      <td>0.5160</td>\n",
              "      <td>0.2155</td>\n",
              "      <td>0.1140</td>\n",
              "      <td>0.155</td>\n",
              "      <td>10</td>\n",
              "    </tr>\n",
              "    <tr>\n",
              "      <th>4</th>\n",
              "      <td>I</td>\n",
              "      <td>0.330</td>\n",
              "      <td>0.255</td>\n",
              "      <td>0.080</td>\n",
              "      <td>0.2050</td>\n",
              "      <td>0.0895</td>\n",
              "      <td>0.0395</td>\n",
              "      <td>0.055</td>\n",
              "      <td>7</td>\n",
              "    </tr>\n",
              "  </tbody>\n",
              "</table>\n",
              "</div>\n",
              "      <button class=\"colab-df-convert\" onclick=\"convertToInteractive('df-d4323a81-b435-478a-b374-1761a6c85071')\"\n",
              "              title=\"Convert this dataframe to an interactive table.\"\n",
              "              style=\"display:none;\">\n",
              "        \n",
              "  <svg xmlns=\"http://www.w3.org/2000/svg\" height=\"24px\"viewBox=\"0 0 24 24\"\n",
              "       width=\"24px\">\n",
              "    <path d=\"M0 0h24v24H0V0z\" fill=\"none\"/>\n",
              "    <path d=\"M18.56 5.44l.94 2.06.94-2.06 2.06-.94-2.06-.94-.94-2.06-.94 2.06-2.06.94zm-11 1L8.5 8.5l.94-2.06 2.06-.94-2.06-.94L8.5 2.5l-.94 2.06-2.06.94zm10 10l.94 2.06.94-2.06 2.06-.94-2.06-.94-.94-2.06-.94 2.06-2.06.94z\"/><path d=\"M17.41 7.96l-1.37-1.37c-.4-.4-.92-.59-1.43-.59-.52 0-1.04.2-1.43.59L10.3 9.45l-7.72 7.72c-.78.78-.78 2.05 0 2.83L4 21.41c.39.39.9.59 1.41.59.51 0 1.02-.2 1.41-.59l7.78-7.78 2.81-2.81c.8-.78.8-2.07 0-2.86zM5.41 20L4 18.59l7.72-7.72 1.47 1.35L5.41 20z\"/>\n",
              "  </svg>\n",
              "      </button>\n",
              "      \n",
              "  <style>\n",
              "    .colab-df-container {\n",
              "      display:flex;\n",
              "      flex-wrap:wrap;\n",
              "      gap: 12px;\n",
              "    }\n",
              "\n",
              "    .colab-df-convert {\n",
              "      background-color: #E8F0FE;\n",
              "      border: none;\n",
              "      border-radius: 50%;\n",
              "      cursor: pointer;\n",
              "      display: none;\n",
              "      fill: #1967D2;\n",
              "      height: 32px;\n",
              "      padding: 0 0 0 0;\n",
              "      width: 32px;\n",
              "    }\n",
              "\n",
              "    .colab-df-convert:hover {\n",
              "      background-color: #E2EBFA;\n",
              "      box-shadow: 0px 1px 2px rgba(60, 64, 67, 0.3), 0px 1px 3px 1px rgba(60, 64, 67, 0.15);\n",
              "      fill: #174EA6;\n",
              "    }\n",
              "\n",
              "    [theme=dark] .colab-df-convert {\n",
              "      background-color: #3B4455;\n",
              "      fill: #D2E3FC;\n",
              "    }\n",
              "\n",
              "    [theme=dark] .colab-df-convert:hover {\n",
              "      background-color: #434B5C;\n",
              "      box-shadow: 0px 1px 3px 1px rgba(0, 0, 0, 0.15);\n",
              "      filter: drop-shadow(0px 1px 2px rgba(0, 0, 0, 0.3));\n",
              "      fill: #FFFFFF;\n",
              "    }\n",
              "  </style>\n",
              "\n",
              "      <script>\n",
              "        const buttonEl =\n",
              "          document.querySelector('#df-d4323a81-b435-478a-b374-1761a6c85071 button.colab-df-convert');\n",
              "        buttonEl.style.display =\n",
              "          google.colab.kernel.accessAllowed ? 'block' : 'none';\n",
              "\n",
              "        async function convertToInteractive(key) {\n",
              "          const element = document.querySelector('#df-d4323a81-b435-478a-b374-1761a6c85071');\n",
              "          const dataTable =\n",
              "            await google.colab.kernel.invokeFunction('convertToInteractive',\n",
              "                                                     [key], {});\n",
              "          if (!dataTable) return;\n",
              "\n",
              "          const docLinkHtml = 'Like what you see? Visit the ' +\n",
              "            '<a target=\"_blank\" href=https://colab.research.google.com/notebooks/data_table.ipynb>data table notebook</a>'\n",
              "            + ' to learn more about interactive tables.';\n",
              "          element.innerHTML = '';\n",
              "          dataTable['output_type'] = 'display_data';\n",
              "          await google.colab.output.renderOutput(dataTable, element);\n",
              "          const docLink = document.createElement('div');\n",
              "          docLink.innerHTML = docLinkHtml;\n",
              "          element.appendChild(docLink);\n",
              "        }\n",
              "      </script>\n",
              "    </div>\n",
              "  </div>\n",
              "  "
            ]
          },
          "metadata": {},
          "execution_count": 3
        }
      ]
    },
    {
      "cell_type": "code",
      "source": [
        "#Boxplot\n",
        "\n",
        "sns.boxplot(d['Diameter'])"
      ],
      "metadata": {
        "colab": {
          "base_uri": "https://localhost:8080/",
          "height": 296
        },
        "id": "7xyZ-yXVP48J",
        "outputId": "4212456d-d7d5-4002-82a5-ab0b8d8a74ec"
      },
      "execution_count": null,
      "outputs": [
        {
          "output_type": "execute_result",
          "data": {
            "text/plain": [
              "<matplotlib.axes._subplots.AxesSubplot at 0x7f37b44d8a10>"
            ]
          },
          "metadata": {},
          "execution_count": 4
        },
        {
          "output_type": "display_data",
          "data": {
            "text/plain": [
              "<Figure size 432x288 with 1 Axes>"
            ],
            "image/png": "[encoded data removed]"
          },
          "metadata": {
            "needs_background": "light"
          }
        }
      ]
    },
    {
      "cell_type": "code",
      "source": [
        "#histogram\n",
        "\n",
        "plt.hist(d['Diameter'])"
      ],
      "metadata": {
        "colab": {
          "base_uri": "https://localhost:8080/",
          "height": 352
        },
        "id": "kE161iHbP9TR",
        "outputId": "166bd13e-5257-4c6b-9084-ae6b8086bb3a"
      },
      "execution_count": null,
      "outputs": [
        {
          "output_type": "execute_result",
          "data": {
            "text/plain": [
              "(array([  13.,   66.,  180.,  344.,  513.,  812., 1017.,  934.,  275.,\n",
              "          23.]),\n",
              " array([0.055 , 0.1145, 0.174 , 0.2335, 0.293 , 0.3525, 0.412 , 0.4715,\n",
              "        0.531 , 0.5905, 0.65  ]),\n",
              " <a list of 10 Patch objects>)"
            ]
          },
          "metadata": {},
          "execution_count": 5
        },
        {
          "output_type": "display_data",
          "data": {
            "text/plain": [
              "<Figure size 432x288 with 1 Axes>"
            ],
            "image/png": "[encoded data removed]"
          },
          "metadata": {
            "needs_background": "light"
          }
        }
      ]
    },
    {
      "cell_type": "code",
      "source": [
        "#piechart\n",
        "\n",
        "plt.pie(d['Diameter'].head(),autopct='%.2f')"
      ],
      "metadata": {
        "colab": {
          "base_uri": "https://localhost:8080/",
          "height": 508
        },
        "id": "wMEkZl6DQLWx",
        "outputId": "b406c872-4013-429c-bc76-01eedacc50d8"
      },
      "execution_count": null,
      "outputs": [
        {
          "output_type": "execute_result",
          "data": {
            "text/plain": [
              "([<matplotlib.patches.Wedge at 0x7f37b31e0590>,\n",
              "  <matplotlib.patches.Wedge at 0x7f37b31bf5d0>,\n",
              "  <matplotlib.patches.Wedge at 0x7f37b31bfe10>,\n",
              "  <matplotlib.patches.Wedge at 0x7f37b3299210>,\n",
              "  <matplotlib.patches.Wedge at 0x7f37b31e1190>],\n",
              " [Text(0.8507215626110557, 0.6973326486753676, ''),\n",
              "  Text(-0.32611344931648134, 1.0505474849691026, ''),\n",
              "  Text(-1.0998053664078908, -0.02069193128747144, ''),\n",
              "  Text(-0.08269436219656089, -1.096887251480709, ''),\n",
              "  Text(0.9758446362287218, -0.5076684409569241, '')],\n",
              " [Text(0.46402994324239394, 0.3803632629138369, '21.86'),\n",
              "  Text(-0.17788006326353525, 0.5730259008922377, '15.87'),\n",
              "  Text(-0.5998938362224858, -0.011286507974984419, '25.15'),\n",
              "  Text(-0.045106015743578656, -0.5983021371712958, '21.86'),\n",
              "  Text(0.5322788924883937, -0.2769100587037768, '15.27')])"
            ]
          },
          "metadata": {},
          "execution_count": 6
        },
        {
          "output_type": "display_data",
          "data": {
            "text/plain": [
              "<Figure size 432x288 with 1 Axes>"
            ],
            "image/png": "[encoded data removed]"
          },
          "metadata": {}
        }
      ]
    },
    {
      "cell_type": "code",
      "source": [
        "\n",
        "#distplot\n",
        "\n",
        "sns.distplot(d['Diameter'].head(200))"
      ],
      "metadata": {
        "colab": {
          "base_uri": "https://localhost:8080/",
          "height": 298
        },
        "id": "Iok-YpV5QPiw",
        "outputId": "ceaa91a5-bb4c-4ccf-8305-611f89568a48"
      },
      "execution_count": null,
      "outputs": [
        {
          "output_type": "execute_result",
          "data": {
            "text/plain": [
              "<matplotlib.axes._subplots.AxesSubplot at 0x7f37b31d8c50>"
            ]
          },
          "metadata": {},
          "execution_count": 7
        },
        {
          "output_type": "display_data",
          "data": {
            "text/plain": [
              "<Figure size 432x288 with 1 Axes>"
            ],
            "image/png": "[encoded data removed]"
          },
          "metadata": {
            "needs_background": "light"
          }
        }
      ]
    },
    {
      "cell_type": "code",
      "source": [
        "#scatter plot\n",
        "\n",
        "plt.scatter(d['Diameter'].head(500),d['Length'].head(500))"
      ],
      "metadata": {
        "colab": {
          "base_uri": "https://localhost:8080/",
          "height": 282
        },
        "id": "0AUfbRxxQPyG",
        "outputId": "550a1454-5335-441a-9e0d-d8d33e0f0a60"
      },
      "execution_count": null,
      "outputs": [
        {
          "output_type": "execute_result",
          "data": {
            "text/plain": [
              "<matplotlib.collections.PathCollection at 0x7f37b3085f50>"
            ]
          },
          "metadata": {},
          "execution_count": 8
        },
        {
          "output_type": "display_data",
          "data": {
            "text/plain": [
              "<Figure size 432x288 with 1 Axes>"
            ],
            "image/png": "[encoded data removed]"
          },
          "metadata": {
            "needs_background": "light"
          }
        }
      ]
    },
    {
      "cell_type": "code",
      "source": [
        "#bar plot\n",
        "\n",
        "plt.bar(d['Sex'].head(10),d['Rings'].head(10))\n",
        "\n",
        "#labelling of x,y and result\n",
        "\n",
        "plt.title('Bar plot')\n",
        "plt.xlabel('Diameter')\n",
        "plt.ylabel('Rings')"
      ],
      "metadata": {
        "colab": {
          "base_uri": "https://localhost:8080/",
          "height": 312
        },
        "id": "qlyOGLeHQP43",
        "outputId": "d51af8cd-2a42-4cb7-a5c7-1aa0c1db5797"
      },
      "execution_count": null,
      "outputs": [
        {
          "output_type": "execute_result",
          "data": {
            "text/plain": [
              "Text(0, 0.5, 'Rings')"
            ]
          },
          "metadata": {},
          "execution_count": 9
        },
        {
          "output_type": "display_data",
          "data": {
            "text/plain": [
              "<Figure size 432x288 with 1 Axes>"
            ],
            "image/png": "[encoded data removed]"
          },
          "metadata": {
            "needs_background": "light"
          }
        }
      ]
    },
    {
      "cell_type": "code",
      "source": [
        "sns.barplot(d['Sex'], d['Rings'])"
      ],
      "metadata": {
        "colab": {
          "base_uri": "https://localhost:8080/",
          "height": 296
        },
        "id": "kv-VeG7TQP9K",
        "outputId": "f3612842-383a-4060-a371-2c00162dd063"
      },
      "execution_count": null,
      "outputs": [
        {
          "output_type": "execute_result",
          "data": {
            "text/plain": [
              "<matplotlib.axes._subplots.AxesSubplot at 0x7f37b2fdecd0>"
            ]
          },
          "metadata": {},
          "execution_count": 10
        },
        {
          "output_type": "display_data",
          "data": {
            "text/plain": [
              "<Figure size 432x288 with 1 Axes>"
            ],
            "image/png": "[encoded data removed]"
          },
          "metadata": {
            "needs_background": "light"
          }
        }
      ]
    },
    {
      "cell_type": "code",
      "source": [
        "#bar plot\n",
        "\n",
        "sns.barplot(d['Diameter'].head(50),d['Rings'].head(50))"
      ],
      "metadata": {
        "colab": {
          "base_uri": "https://localhost:8080/",
          "height": 296
        },
        "id": "5Eg03HQ6QQBd",
        "outputId": "14fe2f7d-7539-46ce-8866-83e63d08a325"
      },
      "execution_count": null,
      "outputs": [
        {
          "output_type": "execute_result",
          "data": {
            "text/plain": [
              "<matplotlib.axes._subplots.AxesSubplot at 0x7f37b2fdb810>"
            ]
          },
          "metadata": {},
          "execution_count": 11
        },
        {
          "output_type": "display_data",
          "data": {
            "text/plain": [
              "<Figure size 432x288 with 1 Axes>"
            ],
            "image/png": "[encoded data removed]"
          },
          "metadata": {
            "needs_background": "light"
          }
        }
      ]
    },
    {
      "cell_type": "code",
      "source": [
        "#joint plot\n",
        "\n",
        "sns.jointplot('Diameter','Rings',hue='Sex',data=d.head())"
      ],
      "metadata": {
        "colab": {
          "base_uri": "https://localhost:8080/",
          "height": 458
        },
        "id": "QAx2G0UYQQG2",
        "outputId": "1ddffb97-81e6-4d08-d238-8dba5d05309d"
      },
      "execution_count": null,
      "outputs": [
        {
          "output_type": "execute_result",
          "data": {
            "text/plain": [
              "<seaborn.axisgrid.JointGrid at 0x7f37b329c790>"
            ]
          },
          "metadata": {},
          "execution_count": 12
        },
        {
          "output_type": "display_data",
          "data": {
            "text/plain": [
              "<Figure size 432x432 with 3 Axes>"
            ],
            "image/png": "[encoded data removed]"
          },
          "metadata": {
            "needs_background": "light"
          }
        }
      ]
    },
    {
      "cell_type": "code",
      "source": [
        "sns.lineplot(d['Diameter'].head(),d['Rings'].head())"
      ],
      "metadata": {
        "colab": {
          "base_uri": "https://localhost:8080/",
          "height": 296
        },
        "id": "2SlokeNaQQN4",
        "outputId": "3126c3ea-83e7-4776-f5aa-623e217b8d98"
      },
      "execution_count": null,
      "outputs": [
        {
          "output_type": "execute_result",
          "data": {
            "text/plain": [
              "<matplotlib.axes._subplots.AxesSubplot at 0x7f37b0443a50>"
            ]
          },
          "metadata": {},
          "execution_count": 13
        },
        {
          "output_type": "display_data",
          "data": {
            "text/plain": [
              "<Figure size 432x288 with 1 Axes>"
            ],
            "image/png": "[encoded data removed]"
          },
          "metadata": {
            "needs_background": "light"
          }
        }
      ]
    },
    {
      "cell_type": "code",
      "source": [
        "sns.lineplot(d['Diameter'].head(),d['Rings'].head())"
      ],
      "metadata": {
        "colab": {
          "base_uri": "https://localhost:8080/",
          "height": 296
        },
        "id": "V8YVD_dkQQSc",
        "outputId": "5fbc3c2f-8424-4828-a7e8-3e0829ffc664"
      },
      "execution_count": null,
      "outputs": [
        {
          "output_type": "execute_result",
          "data": {
            "text/plain": [
              "<matplotlib.axes._subplots.AxesSubplot at 0x7f37b03d3090>"
            ]
          },
          "metadata": {},
          "execution_count": 14
        },
        {
          "output_type": "display_data",
          "data": {
            "text/plain": [
              "<Figure size 432x288 with 1 Axes>"
            ],
            "image/png": "[encoded data removed]"
          },
          "metadata": {
            "needs_background": "light"
          }
        }
      ]
    },
    {
      "cell_type": "code",
      "source": [
        "#heat map\n",
        "\n",
        "fig=plt.figure(figsize=(8,5))\n",
        "sns.heatmap(d.head().corr(),annot=True)"
      ],
      "metadata": {
        "colab": {
          "base_uri": "https://localhost:8080/",
          "height": 410
        },
        "id": "T1IiKZTQQQWR",
        "outputId": "dd4a40dc-bf88-4cb3-cc16-fc1a38b1d037"
      },
      "execution_count": null,
      "outputs": [
        {
          "output_type": "execute_result",
          "data": {
            "text/plain": [
              "<matplotlib.axes._subplots.AxesSubplot at 0x7f37b31bed90>"
            ]
          },
          "metadata": {},
          "execution_count": 15
        },
        {
          "output_type": "display_data",
          "data": {
            "text/plain": [
              "<Figure size 576x360 with 2 Axes>"
            ],
            "image/png": "[encoded data removed]"
          },
          "metadata": {
            "needs_background": "light"
          }
        }
      ]
    },
    {
      "cell_type": "code",
      "source": [
        "#pair plot\n",
        "\n",
        "sns.pairplot(d.head(),hue='Rings')"
      ],
      "metadata": {
        "colab": {
          "base_uri": "https://localhost:8080/",
          "height": 933
        },
        "id": "0rQNEHEGQQZl",
        "outputId": "03bc2f98-2244-4312-99a3-4ada95783b83"
      },
      "execution_count": null,
      "outputs": [
        {
          "output_type": "execute_result",
          "data": {
            "text/plain": [
              "<seaborn.axisgrid.PairGrid at 0x7f37b01fe450>"
            ]
          },
          "metadata": {},
          "execution_count": 16
        },
        {
          "output_type": "display_data",
          "data": {
            "text/plain": [
              "<Figure size 1308.75x1260 with 56 Axes>"
            ],
            "image/png": "[encoded data removed]"
          },
          "metadata": {
            "needs_background": "light"
          }
        }
      ]
    },
    {
      "cell_type": "code",
      "source": [
        "sns.pairplot(d.head())"
      ],
      "metadata": {
        "colab": {
          "base_uri": "https://localhost:8080/",
          "height": 977
        },
        "id": "5A0_onJNQ0MN",
        "outputId": "98aaab02-fb54-45d9-efa3-abfa97bd7491"
      },
      "execution_count": null,
      "outputs": [
        {
          "output_type": "execute_result",
          "data": {
            "text/plain": [
              "<seaborn.axisgrid.PairGrid at 0x7f37b02d1310>"
            ]
          },
          "metadata": {},
          "execution_count": 17
        },
        {
          "output_type": "display_data",
          "data": {
            "text/plain": [
              "<Figure size 1440x1440 with 72 Axes>"
            ],
            "image/png": "[encoded data removed]"
          },
          "metadata": {
            "needs_background": "light"
          }
        }
      ]
    },
    {
      "cell_type": "code",
      "source": [
        "d.head()"
      ],
      "metadata": {
        "colab": {
          "base_uri": "https://localhost:8080/",
          "height": 206
        },
        "id": "Xg0gIuzxQ0b4",
        "outputId": "37b18207-2fdf-47e1-8876-7b7b72b238b3"
      },
      "execution_count": null,
      "outputs": [
        {
          "output_type": "execute_result",
          "data": {
            "text/plain": [
              "  Sex  Length  Diameter  Height  Whole weight  Shucked weight  Viscera weight  \\\n",
              "0   M   0.455     0.365   0.095        0.5140          0.2245          0.1010   \n",
              "1   M   0.350     0.265   0.090        0.2255          0.0995          0.0485   \n",
              "2   F   0.530     0.420   0.135        0.6770          0.2565          0.1415   \n",
              "3   M   0.440     0.365   0.125        0.5160          0.2155          0.1140   \n",
              "4   I   0.330     0.255   0.080        0.2050          0.0895          0.0395   \n",
              "\n",
              "   Shell weight  Rings  \n",
              "0         0.150     15  \n",
              "1         0.070      7  \n",
              "2         0.210      9  \n",
              "3         0.155     10  \n",
              "4         0.055      7  "
            ],
            "text/html": [
              "\n",
              "  <div id=\"df-9de353d3-fe33-4da7-a852-6295c3ea69c2\">\n",
              "    <div class=\"colab-df-container\">\n",
              "      <div>\n",
              "<style scoped>\n",
              "    .dataframe tbody tr th:only-of-type {\n",
              "        vertical-align: middle;\n",
              "    }\n",
              "\n",
              "    .dataframe tbody tr th {\n",
              "        vertical-align: top;\n",
              "    }\n",
              "\n",
              "    .dataframe thead th {\n",
              "        text-align: right;\n",
              "    }\n",
              "</style>\n",
              "<table border=\"1\" class=\"dataframe\">\n",
              "  <thead>\n",
              "    <tr style=\"text-align: right;\">\n",
              "      <th></th>\n",
              "      <th>Sex</th>\n",
              "      <th>Length</th>\n",
              "      <th>Diameter</th>\n",
              "      <th>Height</th>\n",
              "      <th>Whole weight</th>\n",
              "      <th>Shucked weight</th>\n",
              "      <th>Viscera weight</th>\n",
              "      <th>Shell weight</th>\n",
              "      <th>Rings</th>\n",
              "    </tr>\n",
              "  </thead>\n",
              "  <tbody>\n",
              "    <tr>\n",
              "      <th>0</th>\n",
              "      <td>M</td>\n",
              "      <td>0.455</td>\n",
              "      <td>0.365</td>\n",
              "      <td>0.095</td>\n",
              "      <td>0.5140</td>\n",
              "      <td>0.2245</td>\n",
              "      <td>0.1010</td>\n",
              "      <td>0.150</td>\n",
              "      <td>15</td>\n",
              "    </tr>\n",
              "    <tr>\n",
              "      <th>1</th>\n",
              "      <td>M</td>\n",
              "      <td>0.350</td>\n",
              "      <td>0.265</td>\n",
              "      <td>0.090</td>\n",
              "      <td>0.2255</td>\n",
              "      <td>0.0995</td>\n",
              "      <td>0.0485</td>\n",
              "      <td>0.070</td>\n",
              "      <td>7</td>\n",
              "    </tr>\n",
              "    <tr>\n",
              "      <th>2</th>\n",
              "      <td>F</td>\n",
              "      <td>0.530</td>\n",
              "      <td>0.420</td>\n",
              "      <td>0.135</td>\n",
              "      <td>0.6770</td>\n",
              "      <td>0.2565</td>\n",
              "      <td>0.1415</td>\n",
              "      <td>0.210</td>\n",
              "      <td>9</td>\n",
              "    </tr>\n",
              "    <tr>\n",
              "      <th>3</th>\n",
              "      <td>M</td>\n",
              "      <td>0.440</td>\n",
              "      <td>0.365</td>\n",
              "      <td>0.125</td>\n",
              "      <td>0.5160</td>\n",
              "      <td>0.2155</td>\n",
              "      <td>0.1140</td>\n",
              "      <td>0.155</td>\n",
              "      <td>10</td>\n",
              "    </tr>\n",
              "    <tr>\n",
              "      <th>4</th>\n",
              "      <td>I</td>\n",
              "      <td>0.330</td>\n",
              "      <td>0.255</td>\n",
              "      <td>0.080</td>\n",
              "      <td>0.2050</td>\n",
              "      <td>0.0895</td>\n",
              "      <td>0.0395</td>\n",
              "      <td>0.055</td>\n",
              "      <td>7</td>\n",
              "    </tr>\n",
              "  </tbody>\n",
              "</table>\n",
              "</div>\n",
              "      <button class=\"colab-df-convert\" onclick=\"convertToInteractive('df-9de353d3-fe33-4da7-a852-6295c3ea69c2')\"\n",
              "              title=\"Convert this dataframe to an interactive table.\"\n",
              "              style=\"display:none;\">\n",
              "        \n",
              "  <svg xmlns=\"http://www.w3.org/2000/svg\" height=\"24px\"viewBox=\"0 0 24 24\"\n",
              "       width=\"24px\">\n",
              "    <path d=\"M0 0h24v24H0V0z\" fill=\"none\"/>\n",
              "    <path d=\"M18.56 5.44l.94 2.06.94-2.06 2.06-.94-2.06-.94-.94-2.06-.94 2.06-2.06.94zm-11 1L8.5 8.5l.94-2.06 2.06-.94-2.06-.94L8.5 2.5l-.94 2.06-2.06.94zm10 10l.94 2.06.94-2.06 2.06-.94-2.06-.94-.94-2.06-.94 2.06-2.06.94z\"/><path d=\"M17.41 7.96l-1.37-1.37c-.4-.4-.92-.59-1.43-.59-.52 0-1.04.2-1.43.59L10.3 9.45l-7.72 7.72c-.78.78-.78 2.05 0 2.83L4 21.41c.39.39.9.59 1.41.59.51 0 1.02-.2 1.41-.59l7.78-7.78 2.81-2.81c.8-.78.8-2.07 0-2.86zM5.41 20L4 18.59l7.72-7.72 1.47 1.35L5.41 20z\"/>\n",
              "  </svg>\n",
              "      </button>\n",
              "      \n",
              "  <style>\n",
              "    .colab-df-container {\n",
              "      display:flex;\n",
              "      flex-wrap:wrap;\n",
              "      gap: 12px;\n",
              "    }\n",
              "\n",
              "    .colab-df-convert {\n",
              "      background-color: #E8F0FE;\n",
              "      border: none;\n",
              "      border-radius: 50%;\n",
              "      cursor: pointer;\n",
              "      display: none;\n",
              "      fill: #1967D2;\n",
              "      height: 32px;\n",
              "      padding: 0 0 0 0;\n",
              "      width: 32px;\n",
              "    }\n",
              "\n",
              "    .colab-df-convert:hover {\n",
              "      background-color: #E2EBFA;\n",
              "      box-shadow: 0px 1px 2px rgba(60, 64, 67, 0.3), 0px 1px 3px 1px rgba(60, 64, 67, 0.15);\n",
              "      fill: #174EA6;\n",
              "    }\n",
              "\n",
              "    [theme=dark] .colab-df-convert {\n",
              "      background-color: #3B4455;\n",
              "      fill: #D2E3FC;\n",
              "    }\n",
              "\n",
              "    [theme=dark] .colab-df-convert:hover {\n",
              "      background-color: #434B5C;\n",
              "      box-shadow: 0px 1px 3px 1px rgba(0, 0, 0, 0.15);\n",
              "      filter: drop-shadow(0px 1px 2px rgba(0, 0, 0, 0.3));\n",
              "      fill: #FFFFFF;\n",
              "    }\n",
              "  </style>\n",
              "\n",
              "      <script>\n",
              "        const buttonEl =\n",
              "          document.querySelector('#df-9de353d3-fe33-4da7-a852-6295c3ea69c2 button.colab-df-convert');\n",
              "        buttonEl.style.display =\n",
              "          google.colab.kernel.accessAllowed ? 'block' : 'none';\n",
              "\n",
              "        async function convertToInteractive(key) {\n",
              "          const element = document.querySelector('#df-9de353d3-fe33-4da7-a852-6295c3ea69c2');\n",
              "          const dataTable =\n",
              "            await google.colab.kernel.invokeFunction('convertToInteractive',\n",
              "                                                     [key], {});\n",
              "          if (!dataTable) return;\n",
              "\n",
              "          const docLinkHtml = 'Like what you see? Visit the ' +\n",
              "            '<a target=\"_blank\" href=https://colab.research.google.com/notebooks/data_table.ipynb>data table notebook</a>'\n",
              "            + ' to learn more about interactive tables.';\n",
              "          element.innerHTML = '';\n",
              "          dataTable['output_type'] = 'display_data';\n",
              "          await google.colab.output.renderOutput(dataTable, element);\n",
              "          const docLink = document.createElement('div');\n",
              "          docLink.innerHTML = docLinkHtml;\n",
              "          element.appendChild(docLink);\n",
              "        }\n",
              "      </script>\n",
              "    </div>\n",
              "  </div>\n",
              "  "
            ]
          },
          "metadata": {},
          "execution_count": 18
        }
      ]
    },
    {
      "cell_type": "code",
      "source": [
        "d.tail()"
      ],
      "metadata": {
        "colab": {
          "base_uri": "https://localhost:8080/",
          "height": 206
        },
        "id": "y2cnL4S7Q0fZ",
        "outputId": "8f225e4d-ef01-486a-9fad-381ac6bf4b08"
      },
      "execution_count": null,
      "outputs": [
        {
          "output_type": "execute_result",
          "data": {
            "text/plain": [
              "     Sex  Length  Diameter  Height  Whole weight  Shucked weight  \\\n",
              "4172   F   0.565     0.450   0.165        0.8870          0.3700   \n",
              "4173   M   0.590     0.440   0.135        0.9660          0.4390   \n",
              "4174   M   0.600     0.475   0.205        1.1760          0.5255   \n",
              "4175   F   0.625     0.485   0.150        1.0945          0.5310   \n",
              "4176   M   0.710     0.555   0.195        1.9485          0.9455   \n",
              "\n",
              "      Viscera weight  Shell weight  Rings  \n",
              "4172          0.2390        0.2490     11  \n",
              "4173          0.2145        0.2605     10  \n",
              "4174          0.2875        0.3080      9  \n",
              "4175          0.2610        0.2960     10  \n",
              "4176          0.3765        0.4950     12  "
            ],
            "text/html": [
              "\n",
              "  <div id=\"df-e5513c67-5b81-48ce-b798-35f2ada5866a\">\n",
              "    <div class=\"colab-df-container\">\n",
              "      <div>\n",
              "<style scoped>\n",
              "    .dataframe tbody tr th:only-of-type {\n",
              "        vertical-align: middle;\n",
              "    }\n",
              "\n",
              "    .dataframe tbody tr th {\n",
              "        vertical-align: top;\n",
              "    }\n",
              "\n",
              "    .dataframe thead th {\n",
              "        text-align: right;\n",
              "    }\n",
              "</style>\n",
              "<table border=\"1\" class=\"dataframe\">\n",
              "  <thead>\n",
              "    <tr style=\"text-align: right;\">\n",
              "      <th></th>\n",
              "      <th>Sex</th>\n",
              "      <th>Length</th>\n",
              "      <th>Diameter</th>\n",
              "      <th>Height</th>\n",
              "      <th>Whole weight</th>\n",
              "      <th>Shucked weight</th>\n",
              "      <th>Viscera weight</th>\n",
              "      <th>Shell weight</th>\n",
              "      <th>Rings</th>\n",
              "    </tr>\n",
              "  </thead>\n",
              "  <tbody>\n",
              "    <tr>\n",
              "      <th>4172</th>\n",
              "      <td>F</td>\n",
              "      <td>0.565</td>\n",
              "      <td>0.450</td>\n",
              "      <td>0.165</td>\n",
              "      <td>0.8870</td>\n",
              "      <td>0.3700</td>\n",
              "      <td>0.2390</td>\n",
              "      <td>0.2490</td>\n",
              "      <td>11</td>\n",
              "    </tr>\n",
              "    <tr>\n",
              "      <th>4173</th>\n",
              "      <td>M</td>\n",
              "      <td>0.590</td>\n",
              "      <td>0.440</td>\n",
              "      <td>0.135</td>\n",
              "      <td>0.9660</td>\n",
              "      <td>0.4390</td>\n",
              "      <td>0.2145</td>\n",
              "      <td>0.2605</td>\n",
              "      <td>10</td>\n",
              "    </tr>\n",
              "    <tr>\n",
              "      <th>4174</th>\n",
              "      <td>M</td>\n",
              "      <td>0.600</td>\n",
              "      <td>0.475</td>\n",
              "      <td>0.205</td>\n",
              "      <td>1.1760</td>\n",
              "      <td>0.5255</td>\n",
              "      <td>0.2875</td>\n",
              "      <td>0.3080</td>\n",
              "      <td>9</td>\n",
              "    </tr>\n",
              "    <tr>\n",
              "      <th>4175</th>\n",
              "      <td>F</td>\n",
              "      <td>0.625</td>\n",
              "      <td>0.485</td>\n",
              "      <td>0.150</td>\n",
              "      <td>1.0945</td>\n",
              "      <td>0.5310</td>\n",
              "      <td>0.2610</td>\n",
              "      <td>0.2960</td>\n",
              "      <td>10</td>\n",
              "    </tr>\n",
              "    <tr>\n",
              "      <th>4176</th>\n",
              "      <td>M</td>\n",
              "      <td>0.710</td>\n",
              "      <td>0.555</td>\n",
              "      <td>0.195</td>\n",
              "      <td>1.9485</td>\n",
              "      <td>0.9455</td>\n",
              "      <td>0.3765</td>\n",
              "      <td>0.4950</td>\n",
              "      <td>12</td>\n",
              "    </tr>\n",
              "  </tbody>\n",
              "</table>\n",
              "</div>\n",
              "      <button class=\"colab-df-convert\" onclick=\"convertToInteractive('df-e5513c67-5b81-48ce-b798-35f2ada5866a')\"\n",
              "              title=\"Convert this dataframe to an interactive table.\"\n",
              "              style=\"display:none;\">\n",
              "        \n",
              "  <svg xmlns=\"http://www.w3.org/2000/svg\" height=\"24px\"viewBox=\"0 0 24 24\"\n",
              "       width=\"24px\">\n",
              "    <path d=\"M0 0h24v24H0V0z\" fill=\"none\"/>\n",
              "    <path d=\"M18.56 5.44l.94 2.06.94-2.06 2.06-.94-2.06-.94-.94-2.06-.94 2.06-2.06.94zm-11 1L8.5 8.5l.94-2.06 2.06-.94-2.06-.94L8.5 2.5l-.94 2.06-2.06.94zm10 10l.94 2.06.94-2.06 2.06-.94-2.06-.94-.94-2.06-.94 2.06-2.06.94z\"/><path d=\"M17.41 7.96l-1.37-1.37c-.4-.4-.92-.59-1.43-.59-.52 0-1.04.2-1.43.59L10.3 9.45l-7.72 7.72c-.78.78-.78 2.05 0 2.83L4 21.41c.39.39.9.59 1.41.59.51 0 1.02-.2 1.41-.59l7.78-7.78 2.81-2.81c.8-.78.8-2.07 0-2.86zM5.41 20L4 18.59l7.72-7.72 1.47 1.35L5.41 20z\"/>\n",
              "  </svg>\n",
              "      </button>\n",
              "      \n",
              "  <style>\n",
              "    .colab-df-container {\n",
              "      display:flex;\n",
              "      flex-wrap:wrap;\n",
              "      gap: 12px;\n",
              "    }\n",
              "\n",
              "    .colab-df-convert {\n",
              "      background-color: #E8F0FE;\n",
              "      border: none;\n",
              "      border-radius: 50%;\n",
              "      cursor: pointer;\n",
              "      display: none;\n",
              "      fill: #1967D2;\n",
              "      height: 32px;\n",
              "      padding: 0 0 0 0;\n",
              "      width: 32px;\n",
              "    }\n",
              "\n",
              "    .colab-df-convert:hover {\n",
              "      background-color: #E2EBFA;\n",
              "      box-shadow: 0px 1px 2px rgba(60, 64, 67, 0.3), 0px 1px 3px 1px rgba(60, 64, 67, 0.15);\n",
              "      fill: #174EA6;\n",
              "    }\n",
              "\n",
              "    [theme=dark] .colab-df-convert {\n",
              "      background-color: #3B4455;\n",
              "      fill: #D2E3FC;\n",
              "    }\n",
              "\n",
              "    [theme=dark] .colab-df-convert:hover {\n",
              "      background-color: #434B5C;\n",
              "      box-shadow: 0px 1px 3px 1px rgba(0, 0, 0, 0.15);\n",
              "      filter: drop-shadow(0px 1px 2px rgba(0, 0, 0, 0.3));\n",
              "      fill: #FFFFFF;\n",
              "    }\n",
              "  </style>\n",
              "\n",
              "      <script>\n",
              "        const buttonEl =\n",
              "          document.querySelector('#df-e5513c67-5b81-48ce-b798-35f2ada5866a button.colab-df-convert');\n",
              "        buttonEl.style.display =\n",
              "          google.colab.kernel.accessAllowed ? 'block' : 'none';\n",
              "\n",
              "        async function convertToInteractive(key) {\n",
              "          const element = document.querySelector('#df-e5513c67-5b81-48ce-b798-35f2ada5866a');\n",
              "          const dataTable =\n",
              "            await google.colab.kernel.invokeFunction('convertToInteractive',\n",
              "                                                     [key], {});\n",
              "          if (!dataTable) return;\n",
              "\n",
              "          const docLinkHtml = 'Like what you see? Visit the ' +\n",
              "            '<a target=\"_blank\" href=https://colab.research.google.com/notebooks/data_table.ipynb>data table notebook</a>'\n",
              "            + ' to learn more about interactive tables.';\n",
              "          element.innerHTML = '';\n",
              "          dataTable['output_type'] = 'display_data';\n",
              "          await google.colab.output.renderOutput(dataTable, element);\n",
              "          const docLink = document.createElement('div');\n",
              "          docLink.innerHTML = docLinkHtml;\n",
              "          element.appendChild(docLink);\n",
              "        }\n",
              "      </script>\n",
              "    </div>\n",
              "  </div>\n",
              "  "
            ]
          },
          "metadata": {},
          "execution_count": 19
        }
      ]
    },
    {
      "cell_type": "code",
      "source": [
        "d.info()"
      ],
      "metadata": {
        "colab": {
          "base_uri": "https://localhost:8080/"
        },
        "id": "ExWurp1VQ0jX",
        "outputId": "49ba03e0-180e-4f9c-dbe6-52c25beb255f"
      },
      "execution_count": null,
      "outputs": [
        {
          "output_type": "stream",
          "name": "stdout",
          "text": [
            "<class 'pandas.core.frame.DataFrame'>\n",
            "RangeIndex: 4177 entries, 0 to 4176\n",
            "Data columns (total 9 columns):\n",
            " #   Column          Non-Null Count  Dtype  \n",
            "---  ------          --------------  -----  \n",
            " 0   Sex             4177 non-null   object \n",
            " 1   Length          4177 non-null   float64\n",
            " 2   Diameter        4177 non-null   float64\n",
            " 3   Height          4177 non-null   float64\n",
            " 4   Whole weight    4177 non-null   float64\n",
            " 5   Shucked weight  4177 non-null   float64\n",
            " 6   Viscera weight  4177 non-null   float64\n",
            " 7   Shell weight    4177 non-null   float64\n",
            " 8   Rings           4177 non-null   int64  \n",
            "dtypes: float64(7), int64(1), object(1)\n",
            "memory usage: 293.8+ KB\n"
          ]
        }
      ]
    },
    {
      "cell_type": "code",
      "source": [
        "d.describe()"
      ],
      "metadata": {
        "colab": {
          "base_uri": "https://localhost:8080/",
          "height": 300
        },
        "id": "HUIwKujEQ0nj",
        "outputId": "74f0348a-9a1f-4332-9bcb-8a6943fee642"
      },
      "execution_count": null,
      "outputs": [
        {
          "output_type": "execute_result",
          "data": {
            "text/plain": [
              "            Length     Diameter       Height  Whole weight  Shucked weight  \\\n",
              "count  4177.000000  4177.000000  4177.000000   4177.000000     4177.000000   \n",
              "mean      0.523992     0.407881     0.139516      0.828742        0.359367   \n",
              "std       0.120093     0.099240     0.041827      0.490389        0.221963   \n",
              "min       0.075000     0.055000     0.000000      0.002000        0.001000   \n",
              "25%       0.450000     0.350000     0.115000      0.441500        0.186000   \n",
              "50%       0.545000     0.425000     0.140000      0.799500        0.336000   \n",
              "75%       0.615000     0.480000     0.165000      1.153000        0.502000   \n",
              "max       0.815000     0.650000     1.130000      2.825500        1.488000   \n",
              "\n",
              "       Viscera weight  Shell weight        Rings  \n",
              "count     4177.000000   4177.000000  4177.000000  \n",
              "mean         0.180594      0.238831     9.933684  \n",
              "std          0.109614      0.139203     3.224169  \n",
              "min          0.000500      0.001500     1.000000  \n",
              "25%          0.093500      0.130000     8.000000  \n",
              "50%          0.171000      0.234000     9.000000  \n",
              "75%          0.253000      0.329000    11.000000  \n",
              "max          0.760000      1.005000    29.000000  "
            ],
            "text/html": [
              "\n",
              "  <div id=\"df-efff1fb8-c0ae-4089-9333-a41380d129d8\">\n",
              "    <div class=\"colab-df-container\">\n",
              "      <div>\n",
              "<style scoped>\n",
              "    .dataframe tbody tr th:only-of-type {\n",
              "        vertical-align: middle;\n",
              "    }\n",
              "\n",
              "    .dataframe tbody tr th {\n",
              "        vertical-align: top;\n",
              "    }\n",
              "\n",
              "    .dataframe thead th {\n",
              "        text-align: right;\n",
              "    }\n",
              "</style>\n",
              "<table border=\"1\" class=\"dataframe\">\n",
              "  <thead>\n",
              "    <tr style=\"text-align: right;\">\n",
              "      <th></th>\n",
              "      <th>Length</th>\n",
              "      <th>Diameter</th>\n",
              "      <th>Height</th>\n",
              "      <th>Whole weight</th>\n",
              "      <th>Shucked weight</th>\n",
              "      <th>Viscera weight</th>\n",
              "      <th>Shell weight</th>\n",
              "      <th>Rings</th>\n",
              "    </tr>\n",
              "  </thead>\n",
              "  <tbody>\n",
              "    <tr>\n",
              "      <th>count</th>\n",
              "      <td>4177.000000</td>\n",
              "      <td>4177.000000</td>\n",
              "      <td>4177.000000</td>\n",
              "      <td>4177.000000</td>\n",
              "      <td>4177.000000</td>\n",
              "      <td>4177.000000</td>\n",
              "      <td>4177.000000</td>\n",
              "      <td>4177.000000</td>\n",
              "    </tr>\n",
              "    <tr>\n",
              "      <th>mean</th>\n",
              "      <td>0.523992</td>\n",
              "      <td>0.407881</td>\n",
              "      <td>0.139516</td>\n",
              "      <td>0.828742</td>\n",
              "      <td>0.359367</td>\n",
              "      <td>0.180594</td>\n",
              "      <td>0.238831</td>\n",
              "      <td>9.933684</td>\n",
              "    </tr>\n",
              "    <tr>\n",
              "      <th>std</th>\n",
              "      <td>0.120093</td>\n",
              "      <td>0.099240</td>\n",
              "      <td>0.041827</td>\n",
              "      <td>0.490389</td>\n",
              "      <td>0.221963</td>\n",
              "      <td>0.109614</td>\n",
              "      <td>0.139203</td>\n",
              "      <td>3.224169</td>\n",
              "    </tr>\n",
              "    <tr>\n",
              "      <th>min</th>\n",
              "      <td>0.075000</td>\n",
              "      <td>0.055000</td>\n",
              "      <td>0.000000</td>\n",
              "      <td>0.002000</td>\n",
              "      <td>0.001000</td>\n",
              "      <td>0.000500</td>\n",
              "      <td>0.001500</td>\n",
              "      <td>1.000000</td>\n",
              "    </tr>\n",
              "    <tr>\n",
              "      <th>25%</th>\n",
              "      <td>0.450000</td>\n",
              "      <td>0.350000</td>\n",
              "      <td>0.115000</td>\n",
              "      <td>0.441500</td>\n",
              "      <td>0.186000</td>\n",
              "      <td>0.093500</td>\n",
              "      <td>0.130000</td>\n",
              "      <td>8.000000</td>\n",
              "    </tr>\n",
              "    <tr>\n",
              "      <th>50%</th>\n",
              "      <td>0.545000</td>\n",
              "      <td>0.425000</td>\n",
              "      <td>0.140000</td>\n",
              "      <td>0.799500</td>\n",
              "      <td>0.336000</td>\n",
              "      <td>0.171000</td>\n",
              "      <td>0.234000</td>\n",
              "      <td>9.000000</td>\n",
              "    </tr>\n",
              "    <tr>\n",
              "      <th>75%</th>\n",
              "      <td>0.615000</td>\n",
              "      <td>0.480000</td>\n",
              "      <td>0.165000</td>\n",
              "      <td>1.153000</td>\n",
              "      <td>0.502000</td>\n",
              "      <td>0.253000</td>\n",
              "      <td>0.329000</td>\n",
              "      <td>11.000000</td>\n",
              "    </tr>\n",
              "    <tr>\n",
              "      <th>max</th>\n",
              "      <td>0.815000</td>\n",
              "      <td>0.650000</td>\n",
              "      <td>1.130000</td>\n",
              "      <td>2.825500</td>\n",
              "      <td>1.488000</td>\n",
              "      <td>0.760000</td>\n",
              "      <td>1.005000</td>\n",
              "      <td>29.000000</td>\n",
              "    </tr>\n",
              "  </tbody>\n",
              "</table>\n",
              "</div>\n",
              "      <button class=\"colab-df-convert\" onclick=\"convertToInteractive('df-efff1fb8-c0ae-4089-9333-a41380d129d8')\"\n",
              "              title=\"Convert this dataframe to an interactive table.\"\n",
              "              style=\"display:none;\">\n",
              "        \n",
              "  <svg xmlns=\"http://www.w3.org/2000/svg\" height=\"24px\"viewBox=\"0 0 24 24\"\n",
              "       width=\"24px\">\n",
              "    <path d=\"M0 0h24v24H0V0z\" fill=\"none\"/>\n",
              "    <path d=\"M18.56 5.44l.94 2.06.94-2.06 2.06-.94-2.06-.94-.94-2.06-.94 2.06-2.06.94zm-11 1L8.5 8.5l.94-2.06 2.06-.94-2.06-.94L8.5 2.5l-.94 2.06-2.06.94zm10 10l.94 2.06.94-2.06 2.06-.94-2.06-.94-.94-2.06-.94 2.06-2.06.94z\"/><path d=\"M17.41 7.96l-1.37-1.37c-.4-.4-.92-.59-1.43-.59-.52 0-1.04.2-1.43.59L10.3 9.45l-7.72 7.72c-.78.78-.78 2.05 0 2.83L4 21.41c.39.39.9.59 1.41.59.51 0 1.02-.2 1.41-.59l7.78-7.78 2.81-2.81c.8-.78.8-2.07 0-2.86zM5.41 20L4 18.59l7.72-7.72 1.47 1.35L5.41 20z\"/>\n",
              "  </svg>\n",
              "      </button>\n",
              "      \n",
              "  <style>\n",
              "    .colab-df-container {\n",
              "      display:flex;\n",
              "      flex-wrap:wrap;\n",
              "      gap: 12px;\n",
              "    }\n",
              "\n",
              "    .colab-df-convert {\n",
              "      background-color: #E8F0FE;\n",
              "      border: none;\n",
              "      border-radius: 50%;\n",
              "      cursor: pointer;\n",
              "      display: none;\n",
              "      fill: #1967D2;\n",
              "      height: 32px;\n",
              "      padding: 0 0 0 0;\n",
              "      width: 32px;\n",
              "    }\n",
              "\n",
              "    .colab-df-convert:hover {\n",
              "      background-color: #E2EBFA;\n",
              "      box-shadow: 0px 1px 2px rgba(60, 64, 67, 0.3), 0px 1px 3px 1px rgba(60, 64, 67, 0.15);\n",
              "      fill: #174EA6;\n",
              "    }\n",
              "\n",
              "    [theme=dark] .colab-df-convert {\n",
              "      background-color: #3B4455;\n",
              "      fill: #D2E3FC;\n",
              "    }\n",
              "\n",
              "    [theme=dark] .colab-df-convert:hover {\n",
              "      background-color: #434B5C;\n",
              "      box-shadow: 0px 1px 3px 1px rgba(0, 0, 0, 0.15);\n",
              "      filter: drop-shadow(0px 1px 2px rgba(0, 0, 0, 0.3));\n",
              "      fill: #FFFFFF;\n",
              "    }\n",
              "  </style>\n",
              "\n",
              "      <script>\n",
              "        const buttonEl =\n",
              "          document.querySelector('#df-efff1fb8-c0ae-4089-9333-a41380d129d8 button.colab-df-convert');\n",
              "        buttonEl.style.display =\n",
              "          google.colab.kernel.accessAllowed ? 'block' : 'none';\n",
              "\n",
              "        async function convertToInteractive(key) {\n",
              "          const element = document.querySelector('#df-efff1fb8-c0ae-4089-9333-a41380d129d8');\n",
              "          const dataTable =\n",
              "            await google.colab.kernel.invokeFunction('convertToInteractive',\n",
              "                                                     [key], {});\n",
              "          if (!dataTable) return;\n",
              "\n",
              "          const docLinkHtml = 'Like what you see? Visit the ' +\n",
              "            '<a target=\"_blank\" href=https://colab.research.google.com/notebooks/data_table.ipynb>data table notebook</a>'\n",
              "            + ' to learn more about interactive tables.';\n",
              "          element.innerHTML = '';\n",
              "          dataTable['output_type'] = 'display_data';\n",
              "          await google.colab.output.renderOutput(dataTable, element);\n",
              "          const docLink = document.createElement('div');\n",
              "          docLink.innerHTML = docLinkHtml;\n",
              "          element.appendChild(docLink);\n",
              "        }\n",
              "      </script>\n",
              "    </div>\n",
              "  </div>\n",
              "  "
            ]
          },
          "metadata": {},
          "execution_count": 21
        }
      ]
    },
    {
      "cell_type": "code",
      "source": [
        "d.mode().T"
      ],
      "metadata": {
        "colab": {
          "base_uri": "https://localhost:8080/",
          "height": 332
        },
        "id": "rmzeCDiPQ0s-",
        "outputId": "3afabe41-96a8-495b-a6e9-e2a1c91cc6f4"
      },
      "execution_count": null,
      "outputs": [
        {
          "output_type": "execute_result",
          "data": {
            "text/plain": [
              "                     0      1\n",
              "Sex                  M    NaN\n",
              "Length            0.55  0.625\n",
              "Diameter          0.45    NaN\n",
              "Height            0.15    NaN\n",
              "Whole weight    0.2225    NaN\n",
              "Shucked weight   0.175    NaN\n",
              "Viscera weight  0.1715    NaN\n",
              "Shell weight     0.275    NaN\n",
              "Rings              9.0    NaN"
            ],
            "text/html": [
              "\n",
              "  <div id=\"df-a406d9ac-9c94-4276-ac45-8be4ac093c99\">\n",
              "    <div class=\"colab-df-container\">\n",
              "      <div>\n",
              "<style scoped>\n",
              "    .dataframe tbody tr th:only-of-type {\n",
              "        vertical-align: middle;\n",
              "    }\n",
              "\n",
              "    .dataframe tbody tr th {\n",
              "        vertical-align: top;\n",
              "    }\n",
              "\n",
              "    .dataframe thead th {\n",
              "        text-align: right;\n",
              "    }\n",
              "</style>\n",
              "<table border=\"1\" class=\"dataframe\">\n",
              "  <thead>\n",
              "    <tr style=\"text-align: right;\">\n",
              "      <th></th>\n",
              "      <th>0</th>\n",
              "      <th>1</th>\n",
              "    </tr>\n",
              "  </thead>\n",
              "  <tbody>\n",
              "    <tr>\n",
              "      <th>Sex</th>\n",
              "      <td>M</td>\n",
              "      <td>NaN</td>\n",
              "    </tr>\n",
              "    <tr>\n",
              "      <th>Length</th>\n",
              "      <td>0.55</td>\n",
              "      <td>0.625</td>\n",
              "    </tr>\n",
              "    <tr>\n",
              "      <th>Diameter</th>\n",
              "      <td>0.45</td>\n",
              "      <td>NaN</td>\n",
              "    </tr>\n",
              "    <tr>\n",
              "      <th>Height</th>\n",
              "      <td>0.15</td>\n",
              "      <td>NaN</td>\n",
              "    </tr>\n",
              "    <tr>\n",
              "      <th>Whole weight</th>\n",
              "      <td>0.2225</td>\n",
              "      <td>NaN</td>\n",
              "    </tr>\n",
              "    <tr>\n",
              "      <th>Shucked weight</th>\n",
              "      <td>0.175</td>\n",
              "      <td>NaN</td>\n",
              "    </tr>\n",
              "    <tr>\n",
              "      <th>Viscera weight</th>\n",
              "      <td>0.1715</td>\n",
              "      <td>NaN</td>\n",
              "    </tr>\n",
              "    <tr>\n",
              "      <th>Shell weight</th>\n",
              "      <td>0.275</td>\n",
              "      <td>NaN</td>\n",
              "    </tr>\n",
              "    <tr>\n",
              "      <th>Rings</th>\n",
              "      <td>9.0</td>\n",
              "      <td>NaN</td>\n",
              "    </tr>\n",
              "  </tbody>\n",
              "</table>\n",
              "</div>\n",
              "      <button class=\"colab-df-convert\" onclick=\"convertToInteractive('df-a406d9ac-9c94-4276-ac45-8be4ac093c99')\"\n",
              "              title=\"Convert this dataframe to an interactive table.\"\n",
              "              style=\"display:none;\">\n",
              "        \n",
              "  <svg xmlns=\"http://www.w3.org/2000/svg\" height=\"24px\"viewBox=\"0 0 24 24\"\n",
              "       width=\"24px\">\n",
              "    <path d=\"M0 0h24v24H0V0z\" fill=\"none\"/>\n",
              "    <path d=\"M18.56 5.44l.94 2.06.94-2.06 2.06-.94-2.06-.94-.94-2.06-.94 2.06-2.06.94zm-11 1L8.5 8.5l.94-2.06 2.06-.94-2.06-.94L8.5 2.5l-.94 2.06-2.06.94zm10 10l.94 2.06.94-2.06 2.06-.94-2.06-.94-.94-2.06-.94 2.06-2.06.94z\"/><path d=\"M17.41 7.96l-1.37-1.37c-.4-.4-.92-.59-1.43-.59-.52 0-1.04.2-1.43.59L10.3 9.45l-7.72 7.72c-.78.78-.78 2.05 0 2.83L4 21.41c.39.39.9.59 1.41.59.51 0 1.02-.2 1.41-.59l7.78-7.78 2.81-2.81c.8-.78.8-2.07 0-2.86zM5.41 20L4 18.59l7.72-7.72 1.47 1.35L5.41 20z\"/>\n",
              "  </svg>\n",
              "      </button>\n",
              "      \n",
              "  <style>\n",
              "    .colab-df-container {\n",
              "      display:flex;\n",
              "      flex-wrap:wrap;\n",
              "      gap: 12px;\n",
              "    }\n",
              "\n",
              "    .colab-df-convert {\n",
              "      background-color: #E8F0FE;\n",
              "      border: none;\n",
              "      border-radius: 50%;\n",
              "      cursor: pointer;\n",
              "      display: none;\n",
              "      fill: #1967D2;\n",
              "      height: 32px;\n",
              "      padding: 0 0 0 0;\n",
              "      width: 32px;\n",
              "    }\n",
              "\n",
              "    .colab-df-convert:hover {\n",
              "      background-color: #E2EBFA;\n",
              "      box-shadow: 0px 1px 2px rgba(60, 64, 67, 0.3), 0px 1px 3px 1px rgba(60, 64, 67, 0.15);\n",
              "      fill: #174EA6;\n",
              "    }\n",
              "\n",
              "    [theme=dark] .colab-df-convert {\n",
              "      background-color: #3B4455;\n",
              "      fill: #D2E3FC;\n",
              "    }\n",
              "\n",
              "    [theme=dark] .colab-df-convert:hover {\n",
              "      background-color: #434B5C;\n",
              "      box-shadow: 0px 1px 3px 1px rgba(0, 0, 0, 0.15);\n",
              "      filter: drop-shadow(0px 1px 2px rgba(0, 0, 0, 0.3));\n",
              "      fill: #FFFFFF;\n",
              "    }\n",
              "  </style>\n",
              "\n",
              "      <script>\n",
              "        const buttonEl =\n",
              "          document.querySelector('#df-a406d9ac-9c94-4276-ac45-8be4ac093c99 button.colab-df-convert');\n",
              "        buttonEl.style.display =\n",
              "          google.colab.kernel.accessAllowed ? 'block' : 'none';\n",
              "\n",
              "        async function convertToInteractive(key) {\n",
              "          const element = document.querySelector('#df-a406d9ac-9c94-4276-ac45-8be4ac093c99');\n",
              "          const dataTable =\n",
              "            await google.colab.kernel.invokeFunction('convertToInteractive',\n",
              "                                                     [key], {});\n",
              "          if (!dataTable) return;\n",
              "\n",
              "          const docLinkHtml = 'Like what you see? Visit the ' +\n",
              "            '<a target=\"_blank\" href=https://colab.research.google.com/notebooks/data_table.ipynb>data table notebook</a>'\n",
              "            + ' to learn more about interactive tables.';\n",
              "          element.innerHTML = '';\n",
              "          dataTable['output_type'] = 'display_data';\n",
              "          await google.colab.output.renderOutput(dataTable, element);\n",
              "          const docLink = document.createElement('div');\n",
              "          docLink.innerHTML = docLinkHtml;\n",
              "          element.appendChild(docLink);\n",
              "        }\n",
              "      </script>\n",
              "    </div>\n",
              "  </div>\n",
              "  "
            ]
          },
          "metadata": {},
          "execution_count": 22
        }
      ]
    },
    {
      "cell_type": "code",
      "source": [
        "d.shape"
      ],
      "metadata": {
        "colab": {
          "base_uri": "https://localhost:8080/"
        },
        "id": "lKzkXAYVQ0xd",
        "outputId": "4de05d91-5638-47ea-9b91-eef5009a3b66"
      },
      "execution_count": null,
      "outputs": [
        {
          "output_type": "execute_result",
          "data": {
            "text/plain": [
              "(4177, 9)"
            ]
          },
          "metadata": {},
          "execution_count": 24
        }
      ]
    },
    {
      "cell_type": "code",
      "source": [
        "d.kurt()"
      ],
      "metadata": {
        "colab": {
          "base_uri": "https://localhost:8080/"
        },
        "id": "JY-sBv26Q1KI",
        "outputId": "5d907812-590c-4c37-a40f-9c8b69920a11"
      },
      "execution_count": null,
      "outputs": [
        {
          "output_type": "execute_result",
          "data": {
            "text/plain": [
              "Length             0.064621\n",
              "Diameter          -0.045476\n",
              "Height            76.025509\n",
              "Whole weight      -0.023644\n",
              "Shucked weight     0.595124\n",
              "Viscera weight     0.084012\n",
              "Shell weight       0.531926\n",
              "Rings              2.330687\n",
              "dtype: float64"
            ]
          },
          "metadata": {},
          "execution_count": 25
        }
      ]
    },
    {
      "cell_type": "code",
      "source": [
        "d.skew()"
      ],
      "metadata": {
        "colab": {
          "base_uri": "https://localhost:8080/"
        },
        "id": "MjxiHnnQRP4S",
        "outputId": "3797d798-3696-4141-cad7-f13f426d3f9d"
      },
      "execution_count": null,
      "outputs": [
        {
          "output_type": "execute_result",
          "data": {
            "text/plain": [
              "Length           -0.639873\n",
              "Diameter         -0.609198\n",
              "Height            3.128817\n",
              "Whole weight      0.530959\n",
              "Shucked weight    0.719098\n",
              "Viscera weight    0.591852\n",
              "Shell weight      0.620927\n",
              "Rings             1.114102\n",
              "dtype: float64"
            ]
          },
          "metadata": {},
          "execution_count": 26
        }
      ]
    },
    {
      "cell_type": "code",
      "source": [
        "d.var()"
      ],
      "metadata": {
        "colab": {
          "base_uri": "https://localhost:8080/"
        },
        "id": "Ep6eRT-VRP8i",
        "outputId": "e0bb02ad-ecf3-4533-bea7-823ead4813fa"
      },
      "execution_count": null,
      "outputs": [
        {
          "output_type": "execute_result",
          "data": {
            "text/plain": [
              "Length             0.014422\n",
              "Diameter           0.009849\n",
              "Height             0.001750\n",
              "Whole weight       0.240481\n",
              "Shucked weight     0.049268\n",
              "Viscera weight     0.012015\n",
              "Shell weight       0.019377\n",
              "Rings             10.395266\n",
              "dtype: float64"
            ]
          },
          "metadata": {},
          "execution_count": 27
        }
      ]
    },
    {
      "cell_type": "code",
      "source": [
        "d.nunique()"
      ],
      "metadata": {
        "colab": {
          "base_uri": "https://localhost:8080/"
        },
        "id": "lkW3bAiFRQAY",
        "outputId": "9e5da825-6265-4986-a842-57e97f329080"
      },
      "execution_count": null,
      "outputs": [
        {
          "output_type": "execute_result",
          "data": {
            "text/plain": [
              "Sex                  3\n",
              "Length             134\n",
              "Diameter           111\n",
              "Height              51\n",
              "Whole weight      2429\n",
              "Shucked weight    1515\n",
              "Viscera weight     880\n",
              "Shell weight       926\n",
              "Rings               28\n",
              "dtype: int64"
            ]
          },
          "metadata": {},
          "execution_count": 28
        }
      ]
    },
    {
      "cell_type": "code",
      "source": [
        "d.isna()"
      ],
      "metadata": {
        "colab": {
          "base_uri": "https://localhost:8080/",
          "height": 424
        },
        "id": "QrNmuigeRQEW",
        "outputId": "987a1bcd-554a-4277-bb11-0263d7141bb1"
      },
      "execution_count": null,
      "outputs": [
        {
          "output_type": "execute_result",
          "data": {
            "text/plain": [
              "        Sex  Length  Diameter  Height  Whole weight  Shucked weight  \\\n",
              "0     False   False     False   False         False           False   \n",
              "1     False   False     False   False         False           False   \n",
              "2     False   False     False   False         False           False   \n",
              "3     False   False     False   False         False           False   \n",
              "4     False   False     False   False         False           False   \n",
              "...     ...     ...       ...     ...           ...             ...   \n",
              "4172  False   False     False   False         False           False   \n",
              "4173  False   False     False   False         False           False   \n",
              "4174  False   False     False   False         False           False   \n",
              "4175  False   False     False   False         False           False   \n",
              "4176  False   False     False   False         False           False   \n",
              "\n",
              "      Viscera weight  Shell weight  Rings  \n",
              "0              False         False  False  \n",
              "1              False         False  False  \n",
              "2              False         False  False  \n",
              "3              False         False  False  \n",
              "4              False         False  False  \n",
              "...              ...           ...    ...  \n",
              "4172           False         False  False  \n",
              "4173           False         False  False  \n",
              "4174           False         False  False  \n",
              "4175           False         False  False  \n",
              "4176           False         False  False  \n",
              "\n",
              "[4177 rows x 9 columns]"
            ],
            "text/html": [
              "\n",
              "  <div id=\"df-64da3804-ba25-40d9-957f-c5be95646ee8\">\n",
              "    <div class=\"colab-df-container\">\n",
              "      <div>\n",
              "<style scoped>\n",
              "    .dataframe tbody tr th:only-of-type {\n",
              "        vertical-align: middle;\n",
              "    }\n",
              "\n",
              "    .dataframe tbody tr th {\n",
              "        vertical-align: top;\n",
              "    }\n",
              "\n",
              "    .dataframe thead th {\n",
              "        text-align: right;\n",
              "    }\n",
              "</style>\n",
              "<table border=\"1\" class=\"dataframe\">\n",
              "  <thead>\n",
              "    <tr style=\"text-align: right;\">\n",
              "      <th></th>\n",
              "      <th>Sex</th>\n",
              "      <th>Length</th>\n",
              "      <th>Diameter</th>\n",
              "      <th>Height</th>\n",
              "      <th>Whole weight</th>\n",
              "      <th>Shucked weight</th>\n",
              "      <th>Viscera weight</th>\n",
              "      <th>Shell weight</th>\n",
              "      <th>Rings</th>\n",
              "    </tr>\n",
              "  </thead>\n",
              "  <tbody>\n",
              "    <tr>\n",
              "      <th>0</th>\n",
              "      <td>False</td>\n",
              "      <td>False</td>\n",
              "      <td>False</td>\n",
              "      <td>False</td>\n",
              "      <td>False</td>\n",
              "      <td>False</td>\n",
              "      <td>False</td>\n",
              "      <td>False</td>\n",
              "      <td>False</td>\n",
              "    </tr>\n",
              "    <tr>\n",
              "      <th>1</th>\n",
              "      <td>False</td>\n",
              "      <td>False</td>\n",
              "      <td>False</td>\n",
              "      <td>False</td>\n",
              "      <td>False</td>\n",
              "      <td>False</td>\n",
              "      <td>False</td>\n",
              "      <td>False</td>\n",
              "      <td>False</td>\n",
              "    </tr>\n",
              "    <tr>\n",
              "      <th>2</th>\n",
              "      <td>False</td>\n",
              "      <td>False</td>\n",
              "      <td>False</td>\n",
              "      <td>False</td>\n",
              "      <td>False</td>\n",
              "      <td>False</td>\n",
              "      <td>False</td>\n",
              "      <td>False</td>\n",
              "      <td>False</td>\n",
              "    </tr>\n",
              "    <tr>\n",
              "      <th>3</th>\n",
              "      <td>False</td>\n",
              "      <td>False</td>\n",
              "      <td>False</td>\n",
              "      <td>False</td>\n",
              "      <td>False</td>\n",
              "      <td>False</td>\n",
              "      <td>False</td>\n",
              "      <td>False</td>\n",
              "      <td>False</td>\n",
              "    </tr>\n",
              "    <tr>\n",
              "      <th>4</th>\n",
              "      <td>False</td>\n",
              "      <td>False</td>\n",
              "      <td>False</td>\n",
              "      <td>False</td>\n",
              "      <td>False</td>\n",
              "      <td>False</td>\n",
              "      <td>False</td>\n",
              "      <td>False</td>\n",
              "      <td>False</td>\n",
              "    </tr>\n",
              "    <tr>\n",
              "      <th>...</th>\n",
              "      <td>...</td>\n",
              "      <td>...</td>\n",
              "      <td>...</td>\n",
              "      <td>...</td>\n",
              "      <td>...</td>\n",
              "      <td>...</td>\n",
              "      <td>...</td>\n",
              "      <td>...</td>\n",
              "      <td>...</td>\n",
              "    </tr>\n",
              "    <tr>\n",
              "      <th>4172</th>\n",
              "      <td>False</td>\n",
              "      <td>False</td>\n",
              "      <td>False</td>\n",
              "      <td>False</td>\n",
              "      <td>False</td>\n",
              "      <td>False</td>\n",
              "      <td>False</td>\n",
              "      <td>False</td>\n",
              "      <td>False</td>\n",
              "    </tr>\n",
              "    <tr>\n",
              "      <th>4173</th>\n",
              "      <td>False</td>\n",
              "      <td>False</td>\n",
              "      <td>False</td>\n",
              "      <td>False</td>\n",
              "      <td>False</td>\n",
              "      <td>False</td>\n",
              "      <td>False</td>\n",
              "      <td>False</td>\n",
              "      <td>False</td>\n",
              "    </tr>\n",
              "    <tr>\n",
              "      <th>4174</th>\n",
              "      <td>False</td>\n",
              "      <td>False</td>\n",
              "      <td>False</td>\n",
              "      <td>False</td>\n",
              "      <td>False</td>\n",
              "      <td>False</td>\n",
              "      <td>False</td>\n",
              "      <td>False</td>\n",
              "      <td>False</td>\n",
              "    </tr>\n",
              "    <tr>\n",
              "      <th>4175</th>\n",
              "      <td>False</td>\n",
              "      <td>False</td>\n",
              "      <td>False</td>\n",
              "      <td>False</td>\n",
              "      <td>False</td>\n",
              "      <td>False</td>\n",
              "      <td>False</td>\n",
              "      <td>False</td>\n",
              "      <td>False</td>\n",
              "    </tr>\n",
              "    <tr>\n",
              "      <th>4176</th>\n",
              "      <td>False</td>\n",
              "      <td>False</td>\n",
              "      <td>False</td>\n",
              "      <td>False</td>\n",
              "      <td>False</td>\n",
              "      <td>False</td>\n",
              "      <td>False</td>\n",
              "      <td>False</td>\n",
              "      <td>False</td>\n",
              "    </tr>\n",
              "  </tbody>\n",
              "</table>\n",
              "<p>4177 rows × 9 columns</p>\n",
              "</div>\n",
              "      <button class=\"colab-df-convert\" onclick=\"convertToInteractive('df-64da3804-ba25-40d9-957f-c5be95646ee8')\"\n",
              "              title=\"Convert this dataframe to an interactive table.\"\n",
              "              style=\"display:none;\">\n",
              "        \n",
              "  <svg xmlns=\"http://www.w3.org/2000/svg\" height=\"24px\"viewBox=\"0 0 24 24\"\n",
              "       width=\"24px\">\n",
              "    <path d=\"M0 0h24v24H0V0z\" fill=\"none\"/>\n",
              "    <path d=\"M18.56 5.44l.94 2.06.94-2.06 2.06-.94-2.06-.94-.94-2.06-.94 2.06-2.06.94zm-11 1L8.5 8.5l.94-2.06 2.06-.94-2.06-.94L8.5 2.5l-.94 2.06-2.06.94zm10 10l.94 2.06.94-2.06 2.06-.94-2.06-.94-.94-2.06-.94 2.06-2.06.94z\"/><path d=\"M17.41 7.96l-1.37-1.37c-.4-.4-.92-.59-1.43-.59-.52 0-1.04.2-1.43.59L10.3 9.45l-7.72 7.72c-.78.78-.78 2.05 0 2.83L4 21.41c.39.39.9.59 1.41.59.51 0 1.02-.2 1.41-.59l7.78-7.78 2.81-2.81c.8-.78.8-2.07 0-2.86zM5.41 20L4 18.59l7.72-7.72 1.47 1.35L5.41 20z\"/>\n",
              "  </svg>\n",
              "      </button>\n",
              "      \n",
              "  <style>\n",
              "    .colab-df-container {\n",
              "      display:flex;\n",
              "      flex-wrap:wrap;\n",
              "      gap: 12px;\n",
              "    }\n",
              "\n",
              "    .colab-df-convert {\n",
              "      background-color: #E8F0FE;\n",
              "      border: none;\n",
              "      border-radius: 50%;\n",
              "      cursor: pointer;\n",
              "      display: none;\n",
              "      fill: #1967D2;\n",
              "      height: 32px;\n",
              "      padding: 0 0 0 0;\n",
              "      width: 32px;\n",
              "    }\n",
              "\n",
              "    .colab-df-convert:hover {\n",
              "      background-color: #E2EBFA;\n",
              "      box-shadow: 0px 1px 2px rgba(60, 64, 67, 0.3), 0px 1px 3px 1px rgba(60, 64, 67, 0.15);\n",
              "      fill: #174EA6;\n",
              "    }\n",
              "\n",
              "    [theme=dark] .colab-df-convert {\n",
              "      background-color: #3B4455;\n",
              "      fill: #D2E3FC;\n",
              "    }\n",
              "\n",
              "    [theme=dark] .colab-df-convert:hover {\n",
              "      background-color: #434B5C;\n",
              "      box-shadow: 0px 1px 3px 1px rgba(0, 0, 0, 0.15);\n",
              "      filter: drop-shadow(0px 1px 2px rgba(0, 0, 0, 0.3));\n",
              "      fill: #FFFFFF;\n",
              "    }\n",
              "  </style>\n",
              "\n",
              "      <script>\n",
              "        const buttonEl =\n",
              "          document.querySelector('#df-64da3804-ba25-40d9-957f-c5be95646ee8 button.colab-df-convert');\n",
              "        buttonEl.style.display =\n",
              "          google.colab.kernel.accessAllowed ? 'block' : 'none';\n",
              "\n",
              "        async function convertToInteractive(key) {\n",
              "          const element = document.querySelector('#df-64da3804-ba25-40d9-957f-c5be95646ee8');\n",
              "          const dataTable =\n",
              "            await google.colab.kernel.invokeFunction('convertToInteractive',\n",
              "                                                     [key], {});\n",
              "          if (!dataTable) return;\n",
              "\n",
              "          const docLinkHtml = 'Like what you see? Visit the ' +\n",
              "            '<a target=\"_blank\" href=https://colab.research.google.com/notebooks/data_table.ipynb>data table notebook</a>'\n",
              "            + ' to learn more about interactive tables.';\n",
              "          element.innerHTML = '';\n",
              "          dataTable['output_type'] = 'display_data';\n",
              "          await google.colab.output.renderOutput(dataTable, element);\n",
              "          const docLink = document.createElement('div');\n",
              "          docLink.innerHTML = docLinkHtml;\n",
              "          element.appendChild(docLink);\n",
              "        }\n",
              "      </script>\n",
              "    </div>\n",
              "  </div>\n",
              "  "
            ]
          },
          "metadata": {},
          "execution_count": 30
        }
      ]
    },
    {
      "cell_type": "code",
      "source": [
        "d.isna().any()"
      ],
      "metadata": {
        "id": "7-ugpxaySRu5",
        "outputId": "516e8459-b8a8-4779-948c-2f67acff081c",
        "colab": {
          "base_uri": "https://localhost:8080/"
        }
      },
      "execution_count": null,
      "outputs": [
        {
          "output_type": "execute_result",
          "data": {
            "text/plain": [
              "Sex               False\n",
              "Length            False\n",
              "Diameter          False\n",
              "Height            False\n",
              "Whole weight      False\n",
              "Shucked weight    False\n",
              "Viscera weight    False\n",
              "Shell weight      False\n",
              "Rings             False\n",
              "dtype: bool"
            ]
          },
          "metadata": {},
          "execution_count": 31
        }
      ]
    },
    {
      "cell_type": "code",
      "source": [
        "d.isna().sum()"
      ],
      "metadata": {
        "id": "zi7zqMbvSR9M",
        "outputId": "b64cbfc5-0b5b-41c5-d897-edf78bb7d085",
        "colab": {
          "base_uri": "https://localhost:8080/"
        }
      },
      "execution_count": null,
      "outputs": [
        {
          "output_type": "execute_result",
          "data": {
            "text/plain": [
              "Sex               0\n",
              "Length            0\n",
              "Diameter          0\n",
              "Height            0\n",
              "Whole weight      0\n",
              "Shucked weight    0\n",
              "Viscera weight    0\n",
              "Shell weight      0\n",
              "Rings             0\n",
              "dtype: int64"
            ]
          },
          "metadata": {},
          "execution_count": 32
        }
      ]
    },
    {
      "cell_type": "code",
      "source": [
        "d.isna().any().sum()"
      ],
      "metadata": {
        "id": "WzxVGzQlSSA8",
        "outputId": "bfcb703d-7f6c-44af-91c9-0949eb73f8a0",
        "colab": {
          "base_uri": "https://localhost:8080/"
        }
      },
      "execution_count": null,
      "outputs": [
        {
          "output_type": "execute_result",
          "data": {
            "text/plain": [
              "0"
            ]
          },
          "metadata": {},
          "execution_count": 33
        }
      ]
    },
    {
      "cell_type": "code",
      "source": [
        "sns.boxplot(d['Diameter'])"
      ],
      "metadata": {
        "id": "WHq1qnnbSSF2",
        "outputId": "6a0697a3-58d0-4d11-93bd-b2b78d2594fa",
        "colab": {
          "base_uri": "https://localhost:8080/",
          "height": 296
        }
      },
      "execution_count": null,
      "outputs": [
        {
          "output_type": "execute_result",
          "data": {
            "text/plain": [
              "<matplotlib.axes._subplots.AxesSubplot at 0x7f37aba33c90>"
            ]
          },
          "metadata": {},
          "execution_count": 34
        },
        {
          "output_type": "display_data",
          "data": {
            "text/plain": [
              "<Figure size 432x288 with 1 Axes>"
            ],
            "image/png": "[encoded data removed]"
          },
          "metadata": {
            "needs_background": "light"
          }
        }
      ]
    },
    {
      "cell_type": "code",
      "source": [
        "qnt=d.quantile(q=[0.25,0.75])\n",
        "qnt"
      ],
      "metadata": {
        "id": "75JSa19ESSJ3",
        "outputId": "7693cca2-1e2f-4992-9c82-fd44cc7cfa93",
        "colab": {
          "base_uri": "https://localhost:8080/",
          "height": 112
        }
      },
      "execution_count": null,
      "outputs": [
        {
          "output_type": "execute_result",
          "data": {
            "text/plain": [
              "      Length  Diameter  Height  Whole weight  Shucked weight  Viscera weight  \\\n",
              "0.25   0.460      0.35   0.115        0.4415           0.186          0.0935   \n",
              "0.75   0.615      0.48   0.165        1.1530           0.502          0.2530   \n",
              "\n",
              "      Shell weight  Rings  \n",
              "0.25         0.130    8.0  \n",
              "0.75         0.329   11.0  "
            ],
            "text/html": [
              "\n",
              "  <div id=\"df-ebcb02d7-a338-4d94-a97a-066b8200e526\">\n",
              "    <div class=\"colab-df-container\">\n",
              "      <div>\n",
              "<style scoped>\n",
              "    .dataframe tbody tr th:only-of-type {\n",
              "        vertical-align: middle;\n",
              "    }\n",
              "\n",
              "    .dataframe tbody tr th {\n",
              "        vertical-align: top;\n",
              "    }\n",
              "\n",
              "    .dataframe thead th {\n",
              "        text-align: right;\n",
              "    }\n",
              "</style>\n",
              "<table border=\"1\" class=\"dataframe\">\n",
              "  <thead>\n",
              "    <tr style=\"text-align: right;\">\n",
              "      <th></th>\n",
              "      <th>Length</th>\n",
              "      <th>Diameter</th>\n",
              "      <th>Height</th>\n",
              "      <th>Whole weight</th>\n",
              "      <th>Shucked weight</th>\n",
              "      <th>Viscera weight</th>\n",
              "      <th>Shell weight</th>\n",
              "      <th>Rings</th>\n",
              "    </tr>\n",
              "  </thead>\n",
              "  <tbody>\n",
              "    <tr>\n",
              "      <th>0.25</th>\n",
              "      <td>0.460</td>\n",
              "      <td>0.35</td>\n",
              "      <td>0.115</td>\n",
              "      <td>0.4415</td>\n",
              "      <td>0.186</td>\n",
              "      <td>0.0935</td>\n",
              "      <td>0.130</td>\n",
              "      <td>8.0</td>\n",
              "    </tr>\n",
              "    <tr>\n",
              "      <th>0.75</th>\n",
              "      <td>0.615</td>\n",
              "      <td>0.48</td>\n",
              "      <td>0.165</td>\n",
              "      <td>1.1530</td>\n",
              "      <td>0.502</td>\n",
              "      <td>0.2530</td>\n",
              "      <td>0.329</td>\n",
              "      <td>11.0</td>\n",
              "    </tr>\n",
              "  </tbody>\n",
              "</table>\n",
              "</div>\n",
              "      <button class=\"colab-df-convert\" onclick=\"convertToInteractive('df-ebcb02d7-a338-4d94-a97a-066b8200e526')\"\n",
              "              title=\"Convert this dataframe to an interactive table.\"\n",
              "              style=\"display:none;\">\n",
              "        \n",
              "  <svg xmlns=\"http://www.w3.org/2000/svg\" height=\"24px\"viewBox=\"0 0 24 24\"\n",
              "       width=\"24px\">\n",
              "    <path d=\"M0 0h24v24H0V0z\" fill=\"none\"/>\n",
              "    <path d=\"M18.56 5.44l.94 2.06.94-2.06 2.06-.94-2.06-.94-.94-2.06-.94 2.06-2.06.94zm-11 1L8.5 8.5l.94-2.06 2.06-.94-2.06-.94L8.5 2.5l-.94 2.06-2.06.94zm10 10l.94 2.06.94-2.06 2.06-.94-2.06-.94-.94-2.06-.94 2.06-2.06.94z\"/><path d=\"M17.41 7.96l-1.37-1.37c-.4-.4-.92-.59-1.43-.59-.52 0-1.04.2-1.43.59L10.3 9.45l-7.72 7.72c-.78.78-.78 2.05 0 2.83L4 21.41c.39.39.9.59 1.41.59.51 0 1.02-.2 1.41-.59l7.78-7.78 2.81-2.81c.8-.78.8-2.07 0-2.86zM5.41 20L4 18.59l7.72-7.72 1.47 1.35L5.41 20z\"/>\n",
              "  </svg>\n",
              "      </button>\n",
              "      \n",
              "  <style>\n",
              "    .colab-df-container {\n",
              "      display:flex;\n",
              "      flex-wrap:wrap;\n",
              "      gap: 12px;\n",
              "    }\n",
              "\n",
              "    .colab-df-convert {\n",
              "      background-color: #E8F0FE;\n",
              "      border: none;\n",
              "      border-radius: 50%;\n",
              "      cursor: pointer;\n",
              "      display: none;\n",
              "      fill: #1967D2;\n",
              "      height: 32px;\n",
              "      padding: 0 0 0 0;\n",
              "      width: 32px;\n",
              "    }\n",
              "\n",
              "    .colab-df-convert:hover {\n",
              "      background-color: #E2EBFA;\n",
              "      box-shadow: 0px 1px 2px rgba(60, 64, 67, 0.3), 0px 1px 3px 1px rgba(60, 64, 67, 0.15);\n",
              "      fill: #174EA6;\n",
              "    }\n",
              "\n",
              "    [theme=dark] .colab-df-convert {\n",
              "      background-color: #3B4455;\n",
              "      fill: #D2E3FC;\n",
              "    }\n",
              "\n",
              "    [theme=dark] .colab-df-convert:hover {\n",
              "      background-color: #434B5C;\n",
              "      box-shadow: 0px 1px 3px 1px rgba(0, 0, 0, 0.15);\n",
              "      filter: drop-shadow(0px 1px 2px rgba(0, 0, 0, 0.3));\n",
              "      fill: #FFFFFF;\n",
              "    }\n",
              "  </style>\n",
              "\n",
              "      <script>\n",
              "        const buttonEl =\n",
              "          document.querySelector('#df-ebcb02d7-a338-4d94-a97a-066b8200e526 button.colab-df-convert');\n",
              "        buttonEl.style.display =\n",
              "          google.colab.kernel.accessAllowed ? 'block' : 'none';\n",
              "\n",
              "        async function convertToInteractive(key) {\n",
              "          const element = document.querySelector('#df-ebcb02d7-a338-4d94-a97a-066b8200e526');\n",
              "          const dataTable =\n",
              "            await google.colab.kernel.invokeFunction('convertToInteractive',\n",
              "                                                     [key], {});\n",
              "          if (!dataTable) return;\n",
              "\n",
              "          const docLinkHtml = 'Like what you see? Visit the ' +\n",
              "            '<a target=\"_blank\" href=https://colab.research.google.com/notebooks/data_table.ipynb>data table notebook</a>'\n",
              "            + ' to learn more about interactive tables.';\n",
              "          element.innerHTML = '';\n",
              "          dataTable['output_type'] = 'display_data';\n",
              "          await google.colab.output.renderOutput(dataTable, element);\n",
              "          const docLink = document.createElement('div');\n",
              "          docLink.innerHTML = docLinkHtml;\n",
              "          element.appendChild(docLink);\n",
              "        }\n",
              "      </script>\n",
              "    </div>\n",
              "  </div>\n",
              "  "
            ]
          },
          "metadata": {},
          "execution_count": 35
        }
      ]
    },
    {
      "cell_type": "code",
      "source": [
        "iqr=qnt.loc[0.75]-qnt.loc[0.25]\n",
        "\n",
        "iqr"
      ],
      "metadata": {
        "colab": {
          "base_uri": "https://localhost:8080/"
        },
        "id": "jEl7hoifRQHX",
        "outputId": "5424bcf3-8abd-40e0-f695-16b46133229f"
      },
      "execution_count": null,
      "outputs": [
        {
          "output_type": "execute_result",
          "data": {
            "text/plain": [
              "Length            0.1550\n",
              "Diameter          0.1300\n",
              "Height            0.0500\n",
              "Whole weight      0.7115\n",
              "Shucked weight    0.3160\n",
              "Viscera weight    0.1595\n",
              "Shell weight      0.1990\n",
              "Rings             3.0000\n",
              "dtype: float64"
            ]
          },
          "metadata": {},
          "execution_count": 36
        }
      ]
    },
    {
      "cell_type": "code",
      "source": [
        "lower=qnt.loc[0.25]-(1.5*iqr)\n",
        "lower"
      ],
      "metadata": {
        "colab": {
          "base_uri": "https://localhost:8080/"
        },
        "id": "6H4YYSc9RQNH",
        "outputId": "9c0c3f9b-7b2b-4167-b8c5-8a761d022e6a"
      },
      "execution_count": null,
      "outputs": [
        {
          "output_type": "execute_result",
          "data": {
            "text/plain": [
              "Length            0.22750\n",
              "Diameter          0.15500\n",
              "Height            0.04000\n",
              "Whole weight     -0.62575\n",
              "Shucked weight   -0.28800\n",
              "Viscera weight   -0.14575\n",
              "Shell weight     -0.16850\n",
              "Rings             3.50000\n",
              "dtype: float64"
            ]
          },
          "metadata": {},
          "execution_count": 37
        }
      ]
    },
    {
      "cell_type": "code",
      "source": [
        "\n",
        "upper=qnt.loc[0.75]+(1.5*iqr)\n",
        "upper"
      ],
      "metadata": {
        "id": "e9CqF1oZWR0-",
        "outputId": "cadd119b-2c58-4f5d-ea14-43f6d1742319",
        "colab": {
          "base_uri": "https://localhost:8080/"
        }
      },
      "execution_count": null,
      "outputs": [
        {
          "output_type": "execute_result",
          "data": {
            "text/plain": [
              "Length             0.84750\n",
              "Diameter           0.67500\n",
              "Height             0.24000\n",
              "Whole weight       2.22025\n",
              "Shucked weight     0.97600\n",
              "Viscera weight     0.49225\n",
              "Shell weight       0.62750\n",
              "Rings             15.50000\n",
              "dtype: float64"
            ]
          },
          "metadata": {},
          "execution_count": 38
        }
      ]
    },
    {
      "cell_type": "code",
      "source": [
        "# replacing outliers\n",
        "\n",
        "##Diameter\n",
        "d['Diameter']=np.where(d['Diameter']<0.155,0.4078,d['Diameter'])\n",
        "sns.boxplot(d['Diameter'])"
      ],
      "metadata": {
        "id": "WE5DzpxvWR5g",
        "outputId": "174f1743-902b-4d78-cfc6-3f80a5c1c5ff",
        "colab": {
          "base_uri": "https://localhost:8080/",
          "height": 296
        }
      },
      "execution_count": null,
      "outputs": [
        {
          "output_type": "execute_result",
          "data": {
            "text/plain": [
              "<matplotlib.axes._subplots.AxesSubplot at 0x7f37aba1e810>"
            ]
          },
          "metadata": {},
          "execution_count": 39
        },
        {
          "output_type": "display_data",
          "data": {
            "text/plain": [
              "<Figure size 432x288 with 1 Axes>"
            ],
            "image/png": "[encoded data removed]"
          },
          "metadata": {
            "needs_background": "light"
          }
        }
      ]
    },
    {
      "cell_type": "code",
      "source": [
        "## Length\n",
        "\n",
        "sns.boxplot(d['Length'])"
      ],
      "metadata": {
        "id": "3NT393wUWR9I",
        "outputId": "a0396406-db4f-4122-c333-59eeff10e79a",
        "colab": {
          "base_uri": "https://localhost:8080/",
          "height": 296
        }
      },
      "execution_count": null,
      "outputs": [
        {
          "output_type": "execute_result",
          "data": {
            "text/plain": [
              "<matplotlib.axes._subplots.AxesSubplot at 0x7f37ab96e650>"
            ]
          },
          "metadata": {},
          "execution_count": 40
        },
        {
          "output_type": "display_data",
          "data": {
            "text/plain": [
              "<Figure size 432x288 with 1 Axes>"
            ],
            "image/png": "[encoded data removed]"
          },
          "metadata": {
            "needs_background": "light"
          }
        }
      ]
    },
    {
      "cell_type": "code",
      "source": [
        "d['Length']=np.where(d['Length']<0.23,0.52, d['Length'])\n",
        "sns.boxplot(d['Length'])"
      ],
      "metadata": {
        "id": "lOWxzUolWSAq",
        "outputId": "dad1bc5e-eba5-4812-b6d5-94728d273ac4",
        "colab": {
          "base_uri": "https://localhost:8080/",
          "height": 296
        }
      },
      "execution_count": null,
      "outputs": [
        {
          "output_type": "execute_result",
          "data": {
            "text/plain": [
              "<matplotlib.axes._subplots.AxesSubplot at 0x7f37b324ed90>"
            ]
          },
          "metadata": {},
          "execution_count": 29
        },
        {
          "output_type": "display_data",
          "data": {
            "text/plain": [
              "<Figure size 432x288 with 1 Axes>"
            ],
            "image/png": "[encoded data removed]"
          },
          "metadata": {
            "needs_background": "light"
          }
        }
      ]
    },
    {
      "cell_type": "code",
      "source": [
        "\n",
        "sns.boxplot(d['Height'])"
      ],
      "metadata": {
        "id": "p2h_pcLGWSFX",
        "outputId": "b056bb74-c0b0-4737-a64d-d7247f165d29",
        "colab": {
          "base_uri": "https://localhost:8080/",
          "height": 296
        }
      },
      "execution_count": null,
      "outputs": [
        {
          "output_type": "execute_result",
          "data": {
            "text/plain": [
              "<matplotlib.axes._subplots.AxesSubplot at 0x7f37ab95a3d0>"
            ]
          },
          "metadata": {},
          "execution_count": 41
        },
        {
          "output_type": "display_data",
          "data": {
            "text/plain": [
              "<Figure size 432x288 with 1 Axes>"
            ],
            "image/png": "[encoded data removed]"
          },
          "metadata": {
            "needs_background": "light"
          }
        }
      ]
    },
    {
      "cell_type": "code",
      "source": [
        "d['Height']=np.where(d['Height']<0.04,0.139, d['Height'])\n",
        "d['Height']=np.where(d['Height']>0.23,0.139, d['Height'])\n",
        "sns.boxplot(d['Height'])"
      ],
      "metadata": {
        "id": "I1mUpcpYWliE",
        "outputId": "54a96c65-27ac-44a0-b2b6-6f115ceb152d",
        "colab": {
          "base_uri": "https://localhost:8080/",
          "height": 296
        }
      },
      "execution_count": null,
      "outputs": [
        {
          "output_type": "execute_result",
          "data": {
            "text/plain": [
              "<matplotlib.axes._subplots.AxesSubplot at 0x7f37ab8bee90>"
            ]
          },
          "metadata": {},
          "execution_count": 42
        },
        {
          "output_type": "display_data",
          "data": {
            "text/plain": [
              "<Figure size 432x288 with 1 Axes>"
            ],
            "image/png": "[encoded data removed]"
          },
          "metadata": {
            "needs_background": "light"
          }
        }
      ]
    },
    {
      "cell_type": "code",
      "source": [
        "sns.boxplot(d['Whole weight'])"
      ],
      "metadata": {
        "id": "f3pbmXOVWlnO",
        "outputId": "bb4149ff-0799-4c75-dd63-971b8473db70",
        "colab": {
          "base_uri": "https://localhost:8080/",
          "height": 296
        }
      },
      "execution_count": null,
      "outputs": [
        {
          "output_type": "execute_result",
          "data": {
            "text/plain": [
              "<matplotlib.axes._subplots.AxesSubplot at 0x7f37ab8372d0>"
            ]
          },
          "metadata": {},
          "execution_count": 43
        },
        {
          "output_type": "display_data",
          "data": {
            "text/plain": [
              "<Figure size 432x288 with 1 Axes>"
            ],
            "image/png": "[encoded data removed]"
          },
          "metadata": {
            "needs_background": "light"
          }
        }
      ]
    },
    {
      "cell_type": "code",
      "source": [
        "d['Whole weight']=np.where(d['Whole weight']>0.9,0.82, d['Whole weight'])\n",
        "sns.boxplot(d['Whole weight'])"
      ],
      "metadata": {
        "id": "RjfkTVpeWlrg",
        "outputId": "5bb3b717-3a08-42d0-d077-a39cc20c90fb",
        "colab": {
          "base_uri": "https://localhost:8080/",
          "height": 296
        }
      },
      "execution_count": null,
      "outputs": [
        {
          "output_type": "execute_result",
          "data": {
            "text/plain": [
              "<matplotlib.axes._subplots.AxesSubplot at 0x7f37ab8237d0>"
            ]
          },
          "metadata": {},
          "execution_count": 44
        },
        {
          "output_type": "display_data",
          "data": {
            "text/plain": [
              "<Figure size 432x288 with 1 Axes>"
            ],
            "image/png": "[encoded data removed]"
          },
          "metadata": {
            "needs_background": "light"
          }
        }
      ]
    },
    {
      "cell_type": "code",
      "source": [
        "## Shucked weight\n",
        "\n",
        "sns.boxplot(d['Shucked weight'])"
      ],
      "metadata": {
        "id": "6jPsmij3W0YN",
        "outputId": "ab431cce-2f9f-4f78-f9f8-fad57a8112d1",
        "colab": {
          "base_uri": "https://localhost:8080/",
          "height": 296
        }
      },
      "execution_count": null,
      "outputs": [
        {
          "output_type": "execute_result",
          "data": {
            "text/plain": [
              "<matplotlib.axes._subplots.AxesSubplot at 0x7f37ab788290>"
            ]
          },
          "metadata": {},
          "execution_count": 45
        },
        {
          "output_type": "display_data",
          "data": {
            "text/plain": [
              "<Figure size 432x288 with 1 Axes>"
            ],
            "image/png": "[encoded data removed]"
          },
          "metadata": {
            "needs_background": "light"
          }
        }
      ]
    },
    {
      "cell_type": "code",
      "source": [
        "d['Shucked weight']=np.where(d['Shucked weight']>0.93,0.35, d['Shucked weight'])\n",
        "sns.boxplot(d['Shucked weight'])"
      ],
      "metadata": {
        "id": "kO0K-zkWW0qE",
        "outputId": "e8bd6d40-35f0-49fb-9546-e1d9e61d49ae",
        "colab": {
          "base_uri": "https://localhost:8080/",
          "height": 296
        }
      },
      "execution_count": null,
      "outputs": [
        {
          "output_type": "execute_result",
          "data": {
            "text/plain": [
              "<matplotlib.axes._subplots.AxesSubplot at 0x7f37ab6f9cd0>"
            ]
          },
          "metadata": {},
          "execution_count": 46
        },
        {
          "output_type": "display_data",
          "data": {
            "text/plain": [
              "<Figure size 432x288 with 1 Axes>"
            ],
            "image/png": "[encoded data removed]"
          },
          "metadata": {
            "needs_background": "light"
          }
        }
      ]
    },
    {
      "cell_type": "code",
      "source": [
        "## Viscera weight\n",
        "\n",
        "sns.boxplot(d['Viscera weight'])"
      ],
      "metadata": {
        "id": "vOsXRyogW0tk",
        "outputId": "da80781f-0180-4ff1-9f06-473cf1e22c26",
        "colab": {
          "base_uri": "https://localhost:8080/",
          "height": 296
        }
      },
      "execution_count": null,
      "outputs": [
        {
          "output_type": "execute_result",
          "data": {
            "text/plain": [
              "<matplotlib.axes._subplots.AxesSubplot at 0x7f37ab6d5a50>"
            ]
          },
          "metadata": {},
          "execution_count": 47
        },
        {
          "output_type": "display_data",
          "data": {
            "text/plain": [
              "<Figure size 432x288 with 1 Axes>"
            ],
            "image/png": "[encoded data removed]"
          },
          "metadata": {
            "needs_background": "light"
          }
        }
      ]
    },
    {
      "cell_type": "code",
      "source": [
        "d['Viscera weight']=np.where(d['Viscera weight']>0.46,0.18, d['Viscera weight'])\n",
        "sns.boxplot(d['Viscera weight'])"
      ],
      "metadata": {
        "id": "e_eYP8rhXBnc",
        "outputId": "21db76b2-8eaa-4b2e-d8e7-b0982c615c7a",
        "colab": {
          "base_uri": "https://localhost:8080/",
          "height": 296
        }
      },
      "execution_count": null,
      "outputs": [
        {
          "output_type": "execute_result",
          "data": {
            "text/plain": [
              "<matplotlib.axes._subplots.AxesSubplot at 0x7f37ab65d9d0>"
            ]
          },
          "metadata": {},
          "execution_count": 48
        },
        {
          "output_type": "display_data",
          "data": {
            "text/plain": [
              "<Figure size 432x288 with 1 Axes>"
            ],
            "image/png": "[encoded data removed]"
          },
          "metadata": {
            "needs_background": "light"
          }
        }
      ]
    },
    {
      "cell_type": "code",
      "source": [
        "## Shell weight\n",
        "\n",
        "sns.boxplot(d['Shell weight'])"
      ],
      "metadata": {
        "id": "jne8IUg8XBsL",
        "outputId": "ed873652-9160-480d-a76c-e82c4d56d2d8",
        "colab": {
          "base_uri": "https://localhost:8080/",
          "height": 296
        }
      },
      "execution_count": null,
      "outputs": [
        {
          "output_type": "execute_result",
          "data": {
            "text/plain": [
              "<matplotlib.axes._subplots.AxesSubplot at 0x7f37ab5c2e10>"
            ]
          },
          "metadata": {},
          "execution_count": 49
        },
        {
          "output_type": "display_data",
          "data": {
            "text/plain": [
              "<Figure size 432x288 with 1 Axes>"
            ],
            "image/png": "[encoded data removed]"
          },
          "metadata": {
            "needs_background": "light"
          }
        }
      ]
    },
    {
      "cell_type": "code",
      "source": [
        "d['Shell weight']=np.where(d['Shell weight']>0.61,0.2388, d['Shell weight'])\n",
        "sns.boxplot(d['Shell weight'])"
      ],
      "metadata": {
        "id": "r2xIdoQAXBwc",
        "outputId": "65b1b05e-043b-4431-ef70-6159772d10ec",
        "colab": {
          "base_uri": "https://localhost:8080/",
          "height": 296
        }
      },
      "execution_count": null,
      "outputs": [
        {
          "output_type": "execute_result",
          "data": {
            "text/plain": [
              "<matplotlib.axes._subplots.AxesSubplot at 0x7f37ab5304d0>"
            ]
          },
          "metadata": {},
          "execution_count": 50
        },
        {
          "output_type": "display_data",
          "data": {
            "text/plain": [
              "<Figure size 432x288 with 1 Axes>"
            ],
            "image/png": "[encoded data removed]"
          },
          "metadata": {
            "needs_background": "light"
          }
        }
      ]
    },
    {
      "cell_type": "code",
      "source": [
        "#one hot encoding\n",
        "\n",
        "d['Sex'].replace({'M':1,'F':0,'I':2},inplace=True)\n",
        "d"
      ],
      "metadata": {
        "id": "1MYzslt4XBz2",
        "outputId": "8ccc5364-2c7f-4dc1-e0dc-b1a88de5955e",
        "colab": {
          "base_uri": "https://localhost:8080/",
          "height": 424
        }
      },
      "execution_count": null,
      "outputs": [
        {
          "output_type": "execute_result",
          "data": {
            "text/plain": [
              "      Sex  Length  Diameter  Height  Whole weight  Shucked weight  \\\n",
              "0       1   0.455     0.365   0.095        0.5140          0.2245   \n",
              "1       1   0.350     0.265   0.090        0.2255          0.0995   \n",
              "2       0   0.530     0.420   0.135        0.6770          0.2565   \n",
              "3       1   0.440     0.365   0.125        0.5160          0.2155   \n",
              "4       2   0.330     0.255   0.080        0.2050          0.0895   \n",
              "...   ...     ...       ...     ...           ...             ...   \n",
              "4172    0   0.565     0.450   0.165        0.8870          0.3700   \n",
              "4173    1   0.590     0.440   0.135        0.8200          0.4390   \n",
              "4174    1   0.600     0.475   0.205        0.8200          0.5255   \n",
              "4175    0   0.625     0.485   0.150        0.8200          0.5310   \n",
              "4176    1   0.710     0.555   0.195        0.8200          0.3500   \n",
              "\n",
              "      Viscera weight  Shell weight  Rings  \n",
              "0             0.1010        0.1500     15  \n",
              "1             0.0485        0.0700      7  \n",
              "2             0.1415        0.2100      9  \n",
              "3             0.1140        0.1550     10  \n",
              "4             0.0395        0.0550      7  \n",
              "...              ...           ...    ...  \n",
              "4172          0.2390        0.2490     11  \n",
              "4173          0.2145        0.2605     10  \n",
              "4174          0.2875        0.3080      9  \n",
              "4175          0.2610        0.2960     10  \n",
              "4176          0.3765        0.4950     12  \n",
              "\n",
              "[4177 rows x 9 columns]"
            ],
            "text/html": [
              "\n",
              "  <div id=\"df-645311e2-0b50-4831-8f4b-04555d77772b\">\n",
              "    <div class=\"colab-df-container\">\n",
              "      <div>\n",
              "<style scoped>\n",
              "    .dataframe tbody tr th:only-of-type {\n",
              "        vertical-align: middle;\n",
              "    }\n",
              "\n",
              "    .dataframe tbody tr th {\n",
              "        vertical-align: top;\n",
              "    }\n",
              "\n",
              "    .dataframe thead th {\n",
              "        text-align: right;\n",
              "    }\n",
              "</style>\n",
              "<table border=\"1\" class=\"dataframe\">\n",
              "  <thead>\n",
              "    <tr style=\"text-align: right;\">\n",
              "      <th></th>\n",
              "      <th>Sex</th>\n",
              "      <th>Length</th>\n",
              "      <th>Diameter</th>\n",
              "      <th>Height</th>\n",
              "      <th>Whole weight</th>\n",
              "      <th>Shucked weight</th>\n",
              "      <th>Viscera weight</th>\n",
              "      <th>Shell weight</th>\n",
              "      <th>Rings</th>\n",
              "    </tr>\n",
              "  </thead>\n",
              "  <tbody>\n",
              "    <tr>\n",
              "      <th>0</th>\n",
              "      <td>1</td>\n",
              "      <td>0.455</td>\n",
              "      <td>0.365</td>\n",
              "      <td>0.095</td>\n",
              "      <td>0.5140</td>\n",
              "      <td>0.2245</td>\n",
              "      <td>0.1010</td>\n",
              "      <td>0.1500</td>\n",
              "      <td>15</td>\n",
              "    </tr>\n",
              "    <tr>\n",
              "      <th>1</th>\n",
              "      <td>1</td>\n",
              "      <td>0.350</td>\n",
              "      <td>0.265</td>\n",
              "      <td>0.090</td>\n",
              "      <td>0.2255</td>\n",
              "      <td>0.0995</td>\n",
              "      <td>0.0485</td>\n",
              "      <td>0.0700</td>\n",
              "      <td>7</td>\n",
              "    </tr>\n",
              "    <tr>\n",
              "      <th>2</th>\n",
              "      <td>0</td>\n",
              "      <td>0.530</td>\n",
              "      <td>0.420</td>\n",
              "      <td>0.135</td>\n",
              "      <td>0.6770</td>\n",
              "      <td>0.2565</td>\n",
              "      <td>0.1415</td>\n",
              "      <td>0.2100</td>\n",
              "      <td>9</td>\n",
              "    </tr>\n",
              "    <tr>\n",
              "      <th>3</th>\n",
              "      <td>1</td>\n",
              "      <td>0.440</td>\n",
              "      <td>0.365</td>\n",
              "      <td>0.125</td>\n",
              "      <td>0.5160</td>\n",
              "      <td>0.2155</td>\n",
              "      <td>0.1140</td>\n",
              "      <td>0.1550</td>\n",
              "      <td>10</td>\n",
              "    </tr>\n",
              "    <tr>\n",
              "      <th>4</th>\n",
              "      <td>2</td>\n",
              "      <td>0.330</td>\n",
              "      <td>0.255</td>\n",
              "      <td>0.080</td>\n",
              "      <td>0.2050</td>\n",
              "      <td>0.0895</td>\n",
              "      <td>0.0395</td>\n",
              "      <td>0.0550</td>\n",
              "      <td>7</td>\n",
              "    </tr>\n",
              "    <tr>\n",
              "      <th>...</th>\n",
              "      <td>...</td>\n",
              "      <td>...</td>\n",
              "      <td>...</td>\n",
              "      <td>...</td>\n",
              "      <td>...</td>\n",
              "      <td>...</td>\n",
              "      <td>...</td>\n",
              "      <td>...</td>\n",
              "      <td>...</td>\n",
              "    </tr>\n",
              "    <tr>\n",
              "      <th>4172</th>\n",
              "      <td>0</td>\n",
              "      <td>0.565</td>\n",
              "      <td>0.450</td>\n",
              "      <td>0.165</td>\n",
              "      <td>0.8870</td>\n",
              "      <td>0.3700</td>\n",
              "      <td>0.2390</td>\n",
              "      <td>0.2490</td>\n",
              "      <td>11</td>\n",
              "    </tr>\n",
              "    <tr>\n",
              "      <th>4173</th>\n",
              "      <td>1</td>\n",
              "      <td>0.590</td>\n",
              "      <td>0.440</td>\n",
              "      <td>0.135</td>\n",
              "      <td>0.8200</td>\n",
              "      <td>0.4390</td>\n",
              "      <td>0.2145</td>\n",
              "      <td>0.2605</td>\n",
              "      <td>10</td>\n",
              "    </tr>\n",
              "    <tr>\n",
              "      <th>4174</th>\n",
              "      <td>1</td>\n",
              "      <td>0.600</td>\n",
              "      <td>0.475</td>\n",
              "      <td>0.205</td>\n",
              "      <td>0.8200</td>\n",
              "      <td>0.5255</td>\n",
              "      <td>0.2875</td>\n",
              "      <td>0.3080</td>\n",
              "      <td>9</td>\n",
              "    </tr>\n",
              "    <tr>\n",
              "      <th>4175</th>\n",
              "      <td>0</td>\n",
              "      <td>0.625</td>\n",
              "      <td>0.485</td>\n",
              "      <td>0.150</td>\n",
              "      <td>0.8200</td>\n",
              "      <td>0.5310</td>\n",
              "      <td>0.2610</td>\n",
              "      <td>0.2960</td>\n",
              "      <td>10</td>\n",
              "    </tr>\n",
              "    <tr>\n",
              "      <th>4176</th>\n",
              "      <td>1</td>\n",
              "      <td>0.710</td>\n",
              "      <td>0.555</td>\n",
              "      <td>0.195</td>\n",
              "      <td>0.8200</td>\n",
              "      <td>0.3500</td>\n",
              "      <td>0.3765</td>\n",
              "      <td>0.4950</td>\n",
              "      <td>12</td>\n",
              "    </tr>\n",
              "  </tbody>\n",
              "</table>\n",
              "<p>4177 rows × 9 columns</p>\n",
              "</div>\n",
              "      <button class=\"colab-df-convert\" onclick=\"convertToInteractive('df-645311e2-0b50-4831-8f4b-04555d77772b')\"\n",
              "              title=\"Convert this dataframe to an interactive table.\"\n",
              "              style=\"display:none;\">\n",
              "        \n",
              "  <svg xmlns=\"http://www.w3.org/2000/svg\" height=\"24px\"viewBox=\"0 0 24 24\"\n",
              "       width=\"24px\">\n",
              "    <path d=\"M0 0h24v24H0V0z\" fill=\"none\"/>\n",
              "    <path d=\"M18.56 5.44l.94 2.06.94-2.06 2.06-.94-2.06-.94-.94-2.06-.94 2.06-2.06.94zm-11 1L8.5 8.5l.94-2.06 2.06-.94-2.06-.94L8.5 2.5l-.94 2.06-2.06.94zm10 10l.94 2.06.94-2.06 2.06-.94-2.06-.94-.94-2.06-.94 2.06-2.06.94z\"/><path d=\"M17.41 7.96l-1.37-1.37c-.4-.4-.92-.59-1.43-.59-.52 0-1.04.2-1.43.59L10.3 9.45l-7.72 7.72c-.78.78-.78 2.05 0 2.83L4 21.41c.39.39.9.59 1.41.59.51 0 1.02-.2 1.41-.59l7.78-7.78 2.81-2.81c.8-.78.8-2.07 0-2.86zM5.41 20L4 18.59l7.72-7.72 1.47 1.35L5.41 20z\"/>\n",
              "  </svg>\n",
              "      </button>\n",
              "      \n",
              "  <style>\n",
              "    .colab-df-container {\n",
              "      display:flex;\n",
              "      flex-wrap:wrap;\n",
              "      gap: 12px;\n",
              "    }\n",
              "\n",
              "    .colab-df-convert {\n",
              "      background-color: #E8F0FE;\n",
              "      border: none;\n",
              "      border-radius: 50%;\n",
              "      cursor: pointer;\n",
              "      display: none;\n",
              "      fill: #1967D2;\n",
              "      height: 32px;\n",
              "      padding: 0 0 0 0;\n",
              "      width: 32px;\n",
              "    }\n",
              "\n",
              "    .colab-df-convert:hover {\n",
              "      background-color: #E2EBFA;\n",
              "      box-shadow: 0px 1px 2px rgba(60, 64, 67, 0.3), 0px 1px 3px 1px rgba(60, 64, 67, 0.15);\n",
              "      fill: #174EA6;\n",
              "    }\n",
              "\n",
              "    [theme=dark] .colab-df-convert {\n",
              "      background-color: #3B4455;\n",
              "      fill: #D2E3FC;\n",
              "    }\n",
              "\n",
              "    [theme=dark] .colab-df-convert:hover {\n",
              "      background-color: #434B5C;\n",
              "      box-shadow: 0px 1px 3px 1px rgba(0, 0, 0, 0.15);\n",
              "      filter: drop-shadow(0px 1px 2px rgba(0, 0, 0, 0.3));\n",
              "      fill: #FFFFFF;\n",
              "    }\n",
              "  </style>\n",
              "\n",
              "      <script>\n",
              "        const buttonEl =\n",
              "          document.querySelector('#df-645311e2-0b50-4831-8f4b-04555d77772b button.colab-df-convert');\n",
              "        buttonEl.style.display =\n",
              "          google.colab.kernel.accessAllowed ? 'block' : 'none';\n",
              "\n",
              "        async function convertToInteractive(key) {\n",
              "          const element = document.querySelector('#df-645311e2-0b50-4831-8f4b-04555d77772b');\n",
              "          const dataTable =\n",
              "            await google.colab.kernel.invokeFunction('convertToInteractive',\n",
              "                                                     [key], {});\n",
              "          if (!dataTable) return;\n",
              "\n",
              "          const docLinkHtml = 'Like what you see? Visit the ' +\n",
              "            '<a target=\"_blank\" href=https://colab.research.google.com/notebooks/data_table.ipynb>data table notebook</a>'\n",
              "            + ' to learn more about interactive tables.';\n",
              "          element.innerHTML = '';\n",
              "          dataTable['output_type'] = 'display_data';\n",
              "          await google.colab.output.renderOutput(dataTable, element);\n",
              "          const docLink = document.createElement('div');\n",
              "          docLink.innerHTML = docLinkHtml;\n",
              "          element.appendChild(docLink);\n",
              "        }\n",
              "      </script>\n",
              "    </div>\n",
              "  </div>\n",
              "  "
            ]
          },
          "metadata": {},
          "execution_count": 51
        }
      ]
    },
    {
      "cell_type": "code",
      "source": [
        "x=d.drop(columns= ['Rings'])\n",
        "y=d['Rings']\n",
        "x"
      ],
      "metadata": {
        "id": "eqwo83itXB56",
        "outputId": "fccdde03-2b74-4ca1-dd0a-51768384e08e",
        "colab": {
          "base_uri": "https://localhost:8080/",
          "height": 424
        }
      },
      "execution_count": null,
      "outputs": [
        {
          "output_type": "execute_result",
          "data": {
            "text/plain": [
              "      Sex  Length  Diameter  Height  Whole weight  Shucked weight  \\\n",
              "0       1   0.455     0.365   0.095        0.5140          0.2245   \n",
              "1       1   0.350     0.265   0.090        0.2255          0.0995   \n",
              "2       0   0.530     0.420   0.135        0.6770          0.2565   \n",
              "3       1   0.440     0.365   0.125        0.5160          0.2155   \n",
              "4       2   0.330     0.255   0.080        0.2050          0.0895   \n",
              "...   ...     ...       ...     ...           ...             ...   \n",
              "4172    0   0.565     0.450   0.165        0.8870          0.3700   \n",
              "4173    1   0.590     0.440   0.135        0.8200          0.4390   \n",
              "4174    1   0.600     0.475   0.205        0.8200          0.5255   \n",
              "4175    0   0.625     0.485   0.150        0.8200          0.5310   \n",
              "4176    1   0.710     0.555   0.195        0.8200          0.3500   \n",
              "\n",
              "      Viscera weight  Shell weight  \n",
              "0             0.1010        0.1500  \n",
              "1             0.0485        0.0700  \n",
              "2             0.1415        0.2100  \n",
              "3             0.1140        0.1550  \n",
              "4             0.0395        0.0550  \n",
              "...              ...           ...  \n",
              "4172          0.2390        0.2490  \n",
              "4173          0.2145        0.2605  \n",
              "4174          0.2875        0.3080  \n",
              "4175          0.2610        0.2960  \n",
              "4176          0.3765        0.4950  \n",
              "\n",
              "[4177 rows x 8 columns]"
            ],
            "text/html": [
              "\n",
              "  <div id=\"df-a6e287ff-7baf-4b3a-8e6d-024a18930cfb\">\n",
              "    <div class=\"colab-df-container\">\n",
              "      <div>\n",
              "<style scoped>\n",
              "    .dataframe tbody tr th:only-of-type {\n",
              "        vertical-align: middle;\n",
              "    }\n",
              "\n",
              "    .dataframe tbody tr th {\n",
              "        vertical-align: top;\n",
              "    }\n",
              "\n",
              "    .dataframe thead th {\n",
              "        text-align: right;\n",
              "    }\n",
              "</style>\n",
              "<table border=\"1\" class=\"dataframe\">\n",
              "  <thead>\n",
              "    <tr style=\"text-align: right;\">\n",
              "      <th></th>\n",
              "      <th>Sex</th>\n",
              "      <th>Length</th>\n",
              "      <th>Diameter</th>\n",
              "      <th>Height</th>\n",
              "      <th>Whole weight</th>\n",
              "      <th>Shucked weight</th>\n",
              "      <th>Viscera weight</th>\n",
              "      <th>Shell weight</th>\n",
              "    </tr>\n",
              "  </thead>\n",
              "  <tbody>\n",
              "    <tr>\n",
              "      <th>0</th>\n",
              "      <td>1</td>\n",
              "      <td>0.455</td>\n",
              "      <td>0.365</td>\n",
              "      <td>0.095</td>\n",
              "      <td>0.5140</td>\n",
              "      <td>0.2245</td>\n",
              "      <td>0.1010</td>\n",
              "      <td>0.1500</td>\n",
              "    </tr>\n",
              "    <tr>\n",
              "      <th>1</th>\n",
              "      <td>1</td>\n",
              "      <td>0.350</td>\n",
              "      <td>0.265</td>\n",
              "      <td>0.090</td>\n",
              "      <td>0.2255</td>\n",
              "      <td>0.0995</td>\n",
              "      <td>0.0485</td>\n",
              "      <td>0.0700</td>\n",
              "    </tr>\n",
              "    <tr>\n",
              "      <th>2</th>\n",
              "      <td>0</td>\n",
              "      <td>0.530</td>\n",
              "      <td>0.420</td>\n",
              "      <td>0.135</td>\n",
              "      <td>0.6770</td>\n",
              "      <td>0.2565</td>\n",
              "      <td>0.1415</td>\n",
              "      <td>0.2100</td>\n",
              "    </tr>\n",
              "    <tr>\n",
              "      <th>3</th>\n",
              "      <td>1</td>\n",
              "      <td>0.440</td>\n",
              "      <td>0.365</td>\n",
              "      <td>0.125</td>\n",
              "      <td>0.5160</td>\n",
              "      <td>0.2155</td>\n",
              "      <td>0.1140</td>\n",
              "      <td>0.1550</td>\n",
              "    </tr>\n",
              "    <tr>\n",
              "      <th>4</th>\n",
              "      <td>2</td>\n",
              "      <td>0.330</td>\n",
              "      <td>0.255</td>\n",
              "      <td>0.080</td>\n",
              "      <td>0.2050</td>\n",
              "      <td>0.0895</td>\n",
              "      <td>0.0395</td>\n",
              "      <td>0.0550</td>\n",
              "    </tr>\n",
              "    <tr>\n",
              "      <th>...</th>\n",
              "      <td>...</td>\n",
              "      <td>...</td>\n",
              "      <td>...</td>\n",
              "      <td>...</td>\n",
              "      <td>...</td>\n",
              "      <td>...</td>\n",
              "      <td>...</td>\n",
              "      <td>...</td>\n",
              "    </tr>\n",
              "    <tr>\n",
              "      <th>4172</th>\n",
              "      <td>0</td>\n",
              "      <td>0.565</td>\n",
              "      <td>0.450</td>\n",
              "      <td>0.165</td>\n",
              "      <td>0.8870</td>\n",
              "      <td>0.3700</td>\n",
              "      <td>0.2390</td>\n",
              "      <td>0.2490</td>\n",
              "    </tr>\n",
              "    <tr>\n",
              "      <th>4173</th>\n",
              "      <td>1</td>\n",
              "      <td>0.590</td>\n",
              "      <td>0.440</td>\n",
              "      <td>0.135</td>\n",
              "      <td>0.8200</td>\n",
              "      <td>0.4390</td>\n",
              "      <td>0.2145</td>\n",
              "      <td>0.2605</td>\n",
              "    </tr>\n",
              "    <tr>\n",
              "      <th>4174</th>\n",
              "      <td>1</td>\n",
              "      <td>0.600</td>\n",
              "      <td>0.475</td>\n",
              "      <td>0.205</td>\n",
              "      <td>0.8200</td>\n",
              "      <td>0.5255</td>\n",
              "      <td>0.2875</td>\n",
              "      <td>0.3080</td>\n",
              "    </tr>\n",
              "    <tr>\n",
              "      <th>4175</th>\n",
              "      <td>0</td>\n",
              "      <td>0.625</td>\n",
              "      <td>0.485</td>\n",
              "      <td>0.150</td>\n",
              "      <td>0.8200</td>\n",
              "      <td>0.5310</td>\n",
              "      <td>0.2610</td>\n",
              "      <td>0.2960</td>\n",
              "    </tr>\n",
              "    <tr>\n",
              "      <th>4176</th>\n",
              "      <td>1</td>\n",
              "      <td>0.710</td>\n",
              "      <td>0.555</td>\n",
              "      <td>0.195</td>\n",
              "      <td>0.8200</td>\n",
              "      <td>0.3500</td>\n",
              "      <td>0.3765</td>\n",
              "      <td>0.4950</td>\n",
              "    </tr>\n",
              "  </tbody>\n",
              "</table>\n",
              "<p>4177 rows × 8 columns</p>\n",
              "</div>\n",
              "      <button class=\"colab-df-convert\" onclick=\"convertToInteractive('df-a6e287ff-7baf-4b3a-8e6d-024a18930cfb')\"\n",
              "              title=\"Convert this dataframe to an interactive table.\"\n",
              "              style=\"display:none;\">\n",
              "        \n",
              "  <svg xmlns=\"http://www.w3.org/2000/svg\" height=\"24px\"viewBox=\"0 0 24 24\"\n",
              "       width=\"24px\">\n",
              "    <path d=\"M0 0h24v24H0V0z\" fill=\"none\"/>\n",
              "    <path d=\"M18.56 5.44l.94 2.06.94-2.06 2.06-.94-2.06-.94-.94-2.06-.94 2.06-2.06.94zm-11 1L8.5 8.5l.94-2.06 2.06-.94-2.06-.94L8.5 2.5l-.94 2.06-2.06.94zm10 10l.94 2.06.94-2.06 2.06-.94-2.06-.94-.94-2.06-.94 2.06-2.06.94z\"/><path d=\"M17.41 7.96l-1.37-1.37c-.4-.4-.92-.59-1.43-.59-.52 0-1.04.2-1.43.59L10.3 9.45l-7.72 7.72c-.78.78-.78 2.05 0 2.83L4 21.41c.39.39.9.59 1.41.59.51 0 1.02-.2 1.41-.59l7.78-7.78 2.81-2.81c.8-.78.8-2.07 0-2.86zM5.41 20L4 18.59l7.72-7.72 1.47 1.35L5.41 20z\"/>\n",
              "  </svg>\n",
              "      </button>\n",
              "      \n",
              "  <style>\n",
              "    .colab-df-container {\n",
              "      display:flex;\n",
              "      flex-wrap:wrap;\n",
              "      gap: 12px;\n",
              "    }\n",
              "\n",
              "    .colab-df-convert {\n",
              "      background-color: #E8F0FE;\n",
              "      border: none;\n",
              "      border-radius: 50%;\n",
              "      cursor: pointer;\n",
              "      display: none;\n",
              "      fill: #1967D2;\n",
              "      height: 32px;\n",
              "      padding: 0 0 0 0;\n",
              "      width: 32px;\n",
              "    }\n",
              "\n",
              "    .colab-df-convert:hover {\n",
              "      background-color: #E2EBFA;\n",
              "      box-shadow: 0px 1px 2px rgba(60, 64, 67, 0.3), 0px 1px 3px 1px rgba(60, 64, 67, 0.15);\n",
              "      fill: #174EA6;\n",
              "    }\n",
              "\n",
              "    [theme=dark] .colab-df-convert {\n",
              "      background-color: #3B4455;\n",
              "      fill: #D2E3FC;\n",
              "    }\n",
              "\n",
              "    [theme=dark] .colab-df-convert:hover {\n",
              "      background-color: #434B5C;\n",
              "      box-shadow: 0px 1px 3px 1px rgba(0, 0, 0, 0.15);\n",
              "      filter: drop-shadow(0px 1px 2px rgba(0, 0, 0, 0.3));\n",
              "      fill: #FFFFFF;\n",
              "    }\n",
              "  </style>\n",
              "\n",
              "      <script>\n",
              "        const buttonEl =\n",
              "          document.querySelector('#df-a6e287ff-7baf-4b3a-8e6d-024a18930cfb button.colab-df-convert');\n",
              "        buttonEl.style.display =\n",
              "          google.colab.kernel.accessAllowed ? 'block' : 'none';\n",
              "\n",
              "        async function convertToInteractive(key) {\n",
              "          const element = document.querySelector('#df-a6e287ff-7baf-4b3a-8e6d-024a18930cfb');\n",
              "          const dataTable =\n",
              "            await google.colab.kernel.invokeFunction('convertToInteractive',\n",
              "                                                     [key], {});\n",
              "          if (!dataTable) return;\n",
              "\n",
              "          const docLinkHtml = 'Like what you see? Visit the ' +\n",
              "            '<a target=\"_blank\" href=https://colab.research.google.com/notebooks/data_table.ipynb>data table notebook</a>'\n",
              "            + ' to learn more about interactive tables.';\n",
              "          element.innerHTML = '';\n",
              "          dataTable['output_type'] = 'display_data';\n",
              "          await google.colab.output.renderOutput(dataTable, element);\n",
              "          const docLink = document.createElement('div');\n",
              "          docLink.innerHTML = docLinkHtml;\n",
              "          element.appendChild(docLink);\n",
              "        }\n",
              "      </script>\n",
              "    </div>\n",
              "  </div>\n",
              "  "
            ]
          },
          "metadata": {},
          "execution_count": 52
        }
      ]
    },
    {
      "cell_type": "code",
      "source": [
        "y"
      ],
      "metadata": {
        "id": "a5nXhb7OXB-n",
        "outputId": "5afe2d8b-3a9a-467c-8859-72e0c3225283",
        "colab": {
          "base_uri": "https://localhost:8080/"
        }
      },
      "execution_count": null,
      "outputs": [
        {
          "output_type": "execute_result",
          "data": {
            "text/plain": [
              "0       15\n",
              "1        7\n",
              "2        9\n",
              "3       10\n",
              "4        7\n",
              "        ..\n",
              "4172    11\n",
              "4173    10\n",
              "4174     9\n",
              "4175    10\n",
              "4176    12\n",
              "Name: Rings, Length: 4177, dtype: int64"
            ]
          },
          "metadata": {},
          "execution_count": 53
        }
      ]
    },
    {
      "cell_type": "code",
      "source": [
        "from sklearn.preprocessing import scale  #StandardScaler\n",
        "#Scaling the independent variables\n",
        "\n",
        "x = scale(x)\n",
        "x"
      ],
      "metadata": {
        "id": "hnt3kL-JXZmV",
        "outputId": "8b63cf8a-7280-4aca-fd06-305ba8aa47cb",
        "colab": {
          "base_uri": "https://localhost:8080/"
        }
      },
      "execution_count": null,
      "outputs": [
        {
          "output_type": "execute_result",
          "data": {
            "text/plain": [
              "array([[-0.0105225 , -0.67088921, -0.50179694, ..., -0.61037964,\n",
              "        -0.7328165 , -0.64358742],\n",
              "       [-0.0105225 , -1.61376082, -1.57304487, ..., -1.22513334,\n",
              "        -1.24343929, -1.25742181],\n",
              "       [-1.26630752,  0.00259051,  0.08738942, ..., -0.45300269,\n",
              "        -0.33890749, -0.18321163],\n",
              "       ...,\n",
              "       [-0.0105225 ,  0.63117159,  0.67657577, ...,  0.86994729,\n",
              "         1.08111018,  0.56873549],\n",
              "       [-1.26630752,  0.85566483,  0.78370057, ...,  0.89699645,\n",
              "         0.82336724,  0.47666033],\n",
              "       [-0.0105225 ,  1.61894185,  1.53357412, ...,  0.00683308,\n",
              "         1.94673739,  2.00357336]])"
            ]
          },
          "metadata": {},
          "execution_count": 54
        }
      ]
    },
    {
      "cell_type": "code",
      "source": [
        "from sklearn.model_selection import train_test_split\n",
        "#spliting data to train and test\n",
        "\n",
        "x_train, x_test, y_train, y_test = train_test_split(x,y, test_size = 0.2)\n",
        "print(x_train.shape, x_test.shape)"
      ],
      "metadata": {
        "id": "ijoO1EW_XZqx",
        "outputId": "cc88b4e2-913f-4a9f-814d-06960e592cc9",
        "colab": {
          "base_uri": "https://localhost:8080/"
        }
      },
      "execution_count": null,
      "outputs": [
        {
          "output_type": "stream",
          "name": "stdout",
          "text": [
            "(3341, 8) (836, 8)\n"
          ]
        }
      ]
    },
    {
      "cell_type": "code",
      "source": [
        "#Multiple Regression \n",
        "\n",
        "from sklearn.linear_model import LinearRegression\n",
        "\n",
        "MLR=LinearRegression()"
      ],
      "metadata": {
        "id": "Z1d-TBPpXZuW"
      },
      "execution_count": null,
      "outputs": []
    },
    {
      "cell_type": "code",
      "source": [
        "MLR.fit(x_train,y_train)"
      ],
      "metadata": {
        "id": "yviDJW8NXZy6",
        "outputId": "4e516680-fd14-4f3a-b6cf-ef3fb4129cde",
        "colab": {
          "base_uri": "https://localhost:8080/"
        }
      },
      "execution_count": null,
      "outputs": [
        {
          "output_type": "execute_result",
          "data": {
            "text/plain": [
              "LinearRegression()"
            ]
          },
          "metadata": {},
          "execution_count": 57
        }
      ]
    },
    {
      "cell_type": "code",
      "source": [
        "#predcition on the test data\n",
        "y_pred=MLR.predict(x_test)\n",
        "y_pred"
      ],
      "metadata": {
        "id": "xdQ9qTNbXZ4p",
        "outputId": "87c6c5f7-d5c7-4fd4-b7bf-b14446811aa7",
        "colab": {
          "base_uri": "https://localhost:8080/"
        }
      },
      "execution_count": null,
      "outputs": [
        {
          "output_type": "execute_result",
          "data": {
            "text/plain": [
              "array([11.37879415,  9.35237493, 10.50129843, 13.22346532,  6.5234146 ,\n",
              "        7.70421456, 12.80773699,  7.39625327, 10.26642954, 11.19548776,\n",
              "        7.36465943,  6.96906178, 11.71149176,  8.9189231 ,  5.74733286,\n",
              "       10.32138561, 10.7075472 , 13.28799557,  6.10673442, 10.19245946,\n",
              "       11.14643119, 11.10474918,  8.69570394,  8.69904987,  8.17982984,\n",
              "        7.08714206, 11.6283516 ,  7.46928564, 10.05943577,  6.49760121,\n",
              "       11.20822266,  5.52787902, 10.70188511, 11.07153932, 10.14339739,\n",
              "        8.39473139, 11.67508081,  9.145724  , 10.12395897, 11.17310264,\n",
              "       11.51014074,  5.90184619, 12.499056  , 11.88762139,  9.83274288,\n",
              "        7.88787659, 10.50980294,  6.40791236,  6.37759493, 12.13130484,\n",
              "        4.72547635,  7.18918286, 12.34685787,  9.33511155,  7.87526286,\n",
              "       10.04443906, 12.14935497, 10.76734601, 11.36435562,  9.09034708,\n",
              "        7.16584822,  7.95041008,  9.33723679, 12.27862152,  9.53354714,\n",
              "       12.42122952, 13.75791468,  9.77843658,  9.97574552, 11.04395981,\n",
              "       11.95313806, 10.23093941,  6.99285546, 11.89406418, 10.61641691,\n",
              "        8.82640687, 11.9833104 ,  8.10605875,  9.82798025, 10.14680214,\n",
              "        7.92960609, 10.34951567, 12.45763592,  8.30200795,  6.93858521,\n",
              "       10.0488678 ,  6.17875816,  8.54295325, 11.34098253, 12.89428979,\n",
              "       10.68827149,  8.79462631, 10.96818271, 10.39806192,  6.9117395 ,\n",
              "       11.17769723,  8.83991015, 10.95705493, 11.64521075,  9.71102864,\n",
              "        9.97287333, 11.09479031,  5.84953095, 10.27954021, 10.49355291,\n",
              "        9.71052437, 10.54529854, 10.18925296,  8.55969252, 13.52726821,\n",
              "       10.17935289,  9.78729284,  7.77960059, 10.4517956 , 12.58464099,\n",
              "       10.00253195,  3.37949847,  6.91758356, 15.11477212,  8.42244657,\n",
              "        7.07193545,  6.44172602,  9.23703331, 12.17638695,  7.14005036,\n",
              "       11.60106757, 10.3573778 ,  4.06075399,  8.05756148, 10.2491085 ,\n",
              "        9.65752079, 10.82123026,  4.14172142, 12.14348799,  6.02008424,\n",
              "       11.40340832, 12.26031935,  9.96107106,  9.78597909, 10.61546507,\n",
              "        8.29054648, 11.75650124,  7.88097098, 10.86903136,  8.5100342 ,\n",
              "       11.72676911,  9.65903576, 10.11279946,  6.5333135 ,  9.75302189,\n",
              "       11.33609549,  7.43739661, 13.5407411 ,  7.708258  ,  6.94438213,\n",
              "        8.20557399, 11.1476708 , 10.22561491,  8.44341269, 10.08207277,\n",
              "        6.13267801, 10.72409537,  8.40911426,  8.64874445, 10.57141502,\n",
              "        9.82195374,  6.64253675,  9.79499485,  9.82047365,  9.92597821,\n",
              "        9.31709733, 10.44650143,  6.39372355, 11.66690301,  7.91198642,\n",
              "       10.22964941, 11.44935171,  6.81865567, 10.20144521, 11.09995677,\n",
              "       12.40648759,  9.86290646, 10.74444751, 10.94364452,  9.93485543,\n",
              "        8.80403663,  8.79640593, 14.27530046, 10.83697203,  9.96976303,\n",
              "        6.50635311, 10.51888198, 11.5851246 ,  6.96837086, 12.64037644,\n",
              "        6.50870526,  6.77682543,  7.68199875, 10.62346213,  9.97345734,\n",
              "        7.57636687, 10.02955479, 15.67783772,  8.48509635, 11.08516933,\n",
              "       11.1142541 , 12.23381219,  6.65637203,  8.45870081,  9.1068189 ,\n",
              "        9.86733378, 10.50343149,  9.6082339 , 11.97344797, 13.53951207,\n",
              "       10.19170408,  8.8169914 ,  6.51420547,  8.73716537,  7.64743902,\n",
              "        8.38742317, 10.70278069, 10.91948238, 13.50991589,  8.96892223,\n",
              "       10.72307958,  6.13683957,  7.52434068,  8.60298759, 12.96252665,\n",
              "       12.33757999, 10.60755983,  9.66936825, 11.3775908 ,  9.57480026,\n",
              "        7.70458318, 12.35890826, 11.1461501 , 10.00289053,  6.87246325,\n",
              "        9.80272547, 10.86574554,  8.76852356,  7.95700501, 11.88831686,\n",
              "       10.56400508,  9.95463824, 10.20330584,  9.37168374,  9.86410014,\n",
              "       15.54578688,  8.53980304,  6.01974018, 11.28762115,  9.34811061,\n",
              "        6.2834186 ,  7.55164832, 11.32619246, 11.8154494 ,  9.23522684,\n",
              "       11.37970543,  8.82659347, 11.68932494,  8.96648794, 12.36439111,\n",
              "        7.28636362, 11.86819285, 12.72228846,  6.0190631 , 11.28704128,\n",
              "        7.02265298, 11.22433013,  8.75337582, 12.46479077,  8.25112067,\n",
              "       10.58856871, 11.43990565,  8.58274539, 12.76154896,  7.1447307 ,\n",
              "       10.27102116,  7.8588171 , 11.38307711, 11.82724543,  7.74544257,\n",
              "       12.58308316,  6.50357541,  6.88250046,  7.9903449 , 10.14272824,\n",
              "       10.23319114, 13.84799863, 10.09191735, 11.95878278, 11.16536935,\n",
              "        6.60796694, 13.82704009, 11.56996172,  8.43794665,  9.15791504,\n",
              "       13.03376479,  6.9018657 , 10.76055752, 10.6593907 ,  9.19052977,\n",
              "       10.57265919, 13.28009233,  6.59719165,  8.25739396,  8.68457598,\n",
              "        9.17393088,  7.64294636, 13.2368758 ,  9.00023857,  8.42017756,\n",
              "        9.33247176,  9.9276239 ,  6.57862169, 11.04925502,  8.52078408,\n",
              "        9.81188237,  7.21218028,  9.38517278, 12.84057418, 10.42040376,\n",
              "        9.24327696,  8.51408008,  9.48179689,  9.29359962, 13.49182698,\n",
              "        6.43344804, 14.28627849, 12.14888002,  6.11586468, 10.94769198,\n",
              "        6.83380682, 10.96927322,  9.22428054, 12.22860321,  6.52501559,\n",
              "        9.94646177, 12.61651162, 10.2522646 , 11.92951598, 13.86946887,\n",
              "       11.71799994, 11.4821577 ,  7.94512827,  8.31321742,  9.04670155,\n",
              "       12.24542427,  9.07288896,  6.03911772, 11.00212716, 11.18360011,\n",
              "        9.76898209,  9.2643655 , 13.00750734,  9.80622674, 11.04665499,\n",
              "        9.68461732, 13.81055746, 10.18069861, 13.13639402, 14.87031357,\n",
              "        6.94894561, 10.79156966,  9.15809957,  9.82900417,  9.93289758,\n",
              "        6.90330181, 10.65533658,  6.35134483, 10.58770154,  6.96178816,\n",
              "       10.76901539, 10.99599989, 10.29629805,  8.66041705, 10.52669636,\n",
              "       12.37493009, 10.17776996,  7.51091519,  6.98521913,  9.16873032,\n",
              "       12.92179374,  9.26242651,  8.08508088, 11.0768372 ,  8.08679232,\n",
              "        8.6797786 ,  9.90755246, 12.53180664,  8.96047817,  9.36075927,\n",
              "        7.6263159 ,  9.90722221, 10.7388068 ,  9.00351724, 10.82474852,\n",
              "       11.28051499, 10.16406696,  9.16039783, 10.77382462,  6.97969578,\n",
              "        9.7463226 ,  8.30745246,  9.84939973,  7.50940335, 10.43177459,\n",
              "        8.3403999 , 10.4041055 ,  7.80724932, 10.34555285, 11.08118676,\n",
              "       11.05139311, 11.88241525,  7.21836904,  9.51105174,  7.42166842,\n",
              "       10.48757997, 13.22792907, 11.30662425,  9.56509679,  6.58767574,\n",
              "       10.8703435 , 10.11960168, 11.48066994, 11.44896781,  8.7536143 ,\n",
              "       10.23627507, 10.66028724,  9.04475003,  9.03369173,  7.70575534,\n",
              "       12.55560322, 11.57437155, 11.19803217,  9.39889163,  7.48760015,\n",
              "        9.5850323 , 11.65155469,  7.29096359, 12.1583962 , 11.10677328,\n",
              "       10.49997162,  9.69752771,  9.73266316, 10.55616035,  6.18096292,\n",
              "        6.69345005, 11.11877333,  9.09590896,  6.43981288, 11.11118172,\n",
              "       12.99698089, 13.23776686,  7.67046306,  7.61952318,  7.60837837,\n",
              "       11.21445901, 10.18589622,  7.00256845, 11.38142084,  9.38123929,\n",
              "       11.26863554,  8.45500017, 10.20717243, 16.63746808, 13.18117037,\n",
              "       15.94819266,  9.51339821, 10.16741604,  9.65186727,  9.7666283 ,\n",
              "       10.12808108, 12.20647822, 10.79623337,  8.38143519,  6.92350307,\n",
              "        8.64054422, 11.57962658, 10.68135004,  8.66490243,  8.75159507,\n",
              "        9.77452589, 13.11798152,  8.77789211, 11.36175232, 10.43136002,\n",
              "       13.31453195,  9.9416256 ,  9.08597975, 11.90378619, 12.34942185,\n",
              "       10.61311406,  9.65538988, 10.26302217, 11.99231237,  9.81077808,\n",
              "        8.08592178,  9.22281234, 10.66656519, 10.69106118, 11.68914544,\n",
              "       11.15721007, 12.5144054 , 11.43997853, 12.01811881,  6.3847004 ,\n",
              "       11.17422772,  8.38196519, 11.30242755,  8.01395058, 10.08752024,\n",
              "        7.57956297, 15.66794562,  6.67204785,  8.68933041,  7.06652644,\n",
              "        9.85740914, 11.42847323,  9.96800654, 10.35646908, 14.95014108,\n",
              "       13.34087685, 10.7504841 ,  6.89722586,  6.26085982, 11.12957684,\n",
              "       10.73595623,  8.87629877,  6.45796035, 10.95611881, 11.30549776,\n",
              "        7.11663851, 11.0051271 ,  9.52004946,  8.27248158, 13.49222514,\n",
              "        7.39439516, 10.33501426,  7.47102797, 11.64345285,  9.6707469 ,\n",
              "       12.01269079, 12.1213219 ,  9.93914115, 12.23019991, 11.05553031,\n",
              "        8.93352103,  9.11399944,  9.9363378 , 10.28924511, 11.54517137,\n",
              "       11.21760658, 12.03166262, 10.69369195, 11.00995416,  8.71143659,\n",
              "       14.92688449, 12.60590883, 11.9155738 ,  6.94699094,  8.98508575,\n",
              "        8.59318613, 11.44828045, 11.52212899,  7.4592279 , 10.59238582,\n",
              "       15.39631395, 13.19440972, 11.34781191,  9.90403089, 12.28556733,\n",
              "        9.71711412, 10.64806062, 10.18056787,  6.39584737, 11.77508088,\n",
              "        7.68034811,  8.38969467, 10.99321525,  6.9627771 ,  8.81700077,\n",
              "        6.28780192,  6.02689005,  8.90981217,  7.34741201, 11.79718224,\n",
              "        6.5885281 ,  9.86973231,  8.82079167, 11.83855987, 11.18825829,\n",
              "       10.34022678, 12.07286263,  8.72806425, 11.14932495,  6.22850822,\n",
              "       11.7927289 ,  9.96288924,  8.40048863, 11.12918586,  8.63573207,\n",
              "        8.04248491,  9.16466911, 10.82058417, 10.10301439,  6.48182162,\n",
              "       11.34724509,  8.67370691, 10.18887038,  9.33616935, 12.8397773 ,\n",
              "       13.09127317, 12.45387101, 10.44346373, 10.55473271, 10.38005082,\n",
              "       12.48152919, 12.85935794,  7.09289327,  9.24612586, 12.94406178,\n",
              "       11.71732418, 11.48052231,  6.98582112, 11.77418016, 12.32603879,\n",
              "       10.40130611,  7.50993234, 12.30658582, 13.18694318,  9.24831726,\n",
              "       10.1488626 , 11.93635848,  3.221741  ,  9.32226351,  9.01144951,\n",
              "        9.46697606, 10.4788625 ,  9.28109301,  8.01403645,  6.22139555,\n",
              "       10.08432911, 10.48731189,  9.29991673,  7.72992135, 10.82821471,\n",
              "        9.12466995, 12.1162915 , 13.14644539, 14.60141452, 10.93852389,\n",
              "       11.58162418,  9.89113704, 12.39239999, 10.28131217,  8.91748191,\n",
              "       11.066089  , 10.17730588, 11.4142699 , 10.57122156,  7.20686951,\n",
              "       11.50664712,  6.82940573, 10.60331261,  9.26873736, 11.86692542,\n",
              "        7.05599018,  7.13470229, 12.60687965,  7.65038652,  8.35831756,\n",
              "       10.22730498, 10.97960556, 10.45183092, 10.6063349 ,  7.92118935,\n",
              "       11.87828061,  6.62088808, 10.29315402,  8.49159152, 11.24958575,\n",
              "        7.99141391, 11.56394617, 11.0216541 , 11.03254978, 10.41753412,\n",
              "        4.30326952,  9.91483648, 11.12902727, 12.64097769, 10.65069852,\n",
              "       10.18202392,  6.61576444,  7.37334264,  9.6326415 , 11.29776315,\n",
              "        7.97660661, 11.6056333 , 11.32022294, 10.06987331,  6.97417111,\n",
              "       10.91906984,  4.17749493,  9.57137469, 13.65444395, 12.96237882,\n",
              "       14.54044062,  9.25021657,  7.23602573, 10.59359402,  8.86216438,\n",
              "        9.18874728,  6.89084222, 11.28929508,  9.07246967, 10.78954768,\n",
              "       11.83249353, 11.21480398, 11.39550321, 11.04035355,  8.21897882,\n",
              "        6.73358683,  8.94764629,  9.49459341, 12.84997277, 10.38966155,\n",
              "        9.06662457,  9.387914  , 12.27733328, 12.12623592, 11.04063737,\n",
              "       10.39816621,  9.1229147 ,  7.29669793,  7.76622008, 12.27339216,\n",
              "        8.01651314,  9.20540012, 12.47003032, 10.06069181, 10.88299718,\n",
              "       12.58521385, 12.12906458,  7.09065136, 10.35727544,  6.22449806,\n",
              "        6.86479268, 10.33611222,  6.31435212,  7.99951151,  6.19139345,\n",
              "        6.26473329, 10.06235044,  8.89928804,  5.90359776, 12.28495928,\n",
              "       12.09775382, 11.06861774, 11.85707262,  5.81925208, 13.35513772,\n",
              "       12.53968462,  9.38129753,  6.89510473,  7.57289096, 10.88037495,\n",
              "        9.70524544, 11.65039661,  8.66934671,  4.61934188,  9.32639257,\n",
              "        7.70631425,  9.45450144, 13.25418999, 11.8039285 , 11.22254497,\n",
              "        9.05919758, 10.53350969, 12.49760641, 12.13577592, 12.9038119 ,\n",
              "       10.41047399,  7.78371316, 11.72715435,  9.28601103,  9.02880264,\n",
              "       11.30715039, 10.84345792, 10.0328501 ,  7.43182797, 11.18188751,\n",
              "        8.60042645, 10.77550938, 12.97587191,  9.48517355,  7.57693438,\n",
              "       12.97745788, 13.197399  ,  8.67342046,  7.76973251, 11.26796313,\n",
              "        9.19121118, 11.24355428, 11.66574417, 10.18482926, 11.23855381,\n",
              "        6.51085354, 13.8435538 ,  7.37163019,  9.41858103, 10.50618472,\n",
              "        8.93049328, 10.39831763,  6.36285878, 11.14719138,  9.60966218,\n",
              "        8.78571813, 11.18022436,  9.18435799, 10.39251808, 11.25042245,\n",
              "       11.72568278, 12.32310485,  8.52297889, 11.88727473, 10.96265849,\n",
              "       12.40758194, 10.1704542 , 12.50065016,  7.41670833,  8.98016393,\n",
              "        9.7535011 ])"
            ]
          },
          "metadata": {},
          "execution_count": 58
        }
      ]
    },
    {
      "cell_type": "code",
      "source": [
        "#prediction in the train data \n",
        "pred=MLR.predict(x_train)\n",
        "pred"
      ],
      "metadata": {
        "id": "TG3tvqJ_XZ9j",
        "outputId": "d8e7d6d7-44c6-4731-e3f1-315898a889af",
        "colab": {
          "base_uri": "https://localhost:8080/"
        }
      },
      "execution_count": null,
      "outputs": [
        {
          "output_type": "execute_result",
          "data": {
            "text/plain": [
              "array([ 6.99975555, 11.9485061 ,  6.73319422, ..., 10.85364548,\n",
              "        7.60583594,  6.71525472])"
            ]
          },
          "metadata": {},
          "execution_count": 59
        }
      ]
    },
    {
      "cell_type": "code",
      "source": [
        "from sklearn.metrics import r2_score\n",
        "\n",
        "acc=r2_score(y_test,y_pred)\n",
        "\n",
        "acc"
      ],
      "metadata": {
        "id": "S99FeuWnXqhn",
        "outputId": "28674b8a-5108-42e2-d1a2-6c5383c6af82",
        "colab": {
          "base_uri": "https://localhost:8080/"
        }
      },
      "execution_count": null,
      "outputs": [
        {
          "output_type": "execute_result",
          "data": {
            "text/plain": [
              "0.44781274068508015"
            ]
          },
          "metadata": {},
          "execution_count": 60
        }
      ]
    },
    {
      "cell_type": "code",
      "source": [
        "#test this model\n",
        "\n",
        "MLR.predict([[1,0.455,0.365,0.095,0.5140,0.2245,0.1010,0.150]])"
      ],
      "metadata": {
        "id": "5W2m3msIXqmk",
        "outputId": "630c4ccd-ada9-41e5-a241-3c43b7f8c16a",
        "colab": {
          "base_uri": "https://localhost:8080/"
        }
      },
      "execution_count": null,
      "outputs": [
        {
          "output_type": "execute_result",
          "data": {
            "text/plain": [
              "array([9.84768386])"
            ]
          },
          "metadata": {},
          "execution_count": 61
        }
      ]
    },
    {
      "cell_type": "code",
      "source": [
        "from sklearn import metrics\n",
        "from sklearn.metrics import mean_squared_error\n",
        "np.sqrt(mean_squared_error(y_test,y_pred))"
      ],
      "metadata": {
        "id": "e0cVL3OZXqqR",
        "outputId": "0f2b4909-1ac4-4dc8-b72e-18df50b11742",
        "colab": {
          "base_uri": "https://localhost:8080/"
        }
      },
      "execution_count": null,
      "outputs": [
        {
          "output_type": "execute_result",
          "data": {
            "text/plain": [
              "2.5168031420760446"
            ]
          },
          "metadata": {},
          "execution_count": 62
        }
      ]
    },
    {
      "cell_type": "code",
      "source": [
        "from sklearn.linear_model import Lasso, Ridge\n",
        "#intialising model\n",
        "\n",
        "lso=Lasso(alpha=0.01,normalize=True)\n",
        "#fit the model\n",
        "lso.fit(x_train,y_train)"
      ],
      "metadata": {
        "id": "t20Ze9zQXqt-",
        "outputId": "850aafa4-cdbf-43ea-cfb8-8eafb7034079",
        "colab": {
          "base_uri": "https://localhost:8080/"
        }
      },
      "execution_count": null,
      "outputs": [
        {
          "output_type": "execute_result",
          "data": {
            "text/plain": [
              "Lasso(alpha=0.01, normalize=True)"
            ]
          },
          "metadata": {},
          "execution_count": 63
        }
      ]
    },
    {
      "cell_type": "code",
      "source": [
        "#predcition on test data\n",
        "\n",
        "lso_pred=lso.predict(x_test)\n",
        "#coef\n",
        "coef=lso.coef_\n",
        "coef"
      ],
      "metadata": {
        "id": "qRDfti5IXqyv",
        "outputId": "58d510b6-c4e4-4e85-cb19-7f0533e0271f",
        "colab": {
          "base_uri": "https://localhost:8080/"
        }
      },
      "execution_count": null,
      "outputs": [
        {
          "output_type": "execute_result",
          "data": {
            "text/plain": [
              "array([-0.        ,  0.        ,  0.        ,  0.46535249,  0.12131133,\n",
              "        0.        ,  0.        ,  0.84587297])"
            ]
          },
          "metadata": {},
          "execution_count": 64
        }
      ]
    },
    {
      "cell_type": "code",
      "source": [
        "from sklearn import metrics\n",
        "from sklearn.metrics import mean_squared_error\n",
        "metrics.r2_score(y_test,lso_pred)"
      ],
      "metadata": {
        "id": "Gh5_2YuhX7E2",
        "outputId": "24453e70-87e9-466b-c275-dbbadadc5575",
        "colab": {
          "base_uri": "https://localhost:8080/"
        }
      },
      "execution_count": null,
      "outputs": [
        {
          "output_type": "execute_result",
          "data": {
            "text/plain": [
              "0.3265910131961858"
            ]
          },
          "metadata": {},
          "execution_count": 65
        }
      ]
    },
    {
      "cell_type": "code",
      "source": [
        "np.sqrt(mean_squared_error(y_test,lso_pred))"
      ],
      "metadata": {
        "id": "OxJf3lR_X7Io",
        "outputId": "a78d8e73-5efe-41c0-d893-d5bef607ea90",
        "colab": {
          "base_uri": "https://localhost:8080/"
        }
      },
      "execution_count": null,
      "outputs": [
        {
          "output_type": "execute_result",
          "data": {
            "text/plain": [
              "2.779364527855848"
            ]
          },
          "metadata": {},
          "execution_count": 66
        }
      ]
    },
    {
      "cell_type": "code",
      "source": [
        "rg=Ridge(alpha=0.01,normalize=True)\n",
        "#fit\n",
        "rg.fit(x_train,y_train)"
      ],
      "metadata": {
        "id": "ml2-PoDzX7MW",
        "outputId": "5090d995-849f-4bb2-f8a7-12efc94b1d06",
        "colab": {
          "base_uri": "https://localhost:8080/"
        }
      },
      "execution_count": null,
      "outputs": [
        {
          "output_type": "execute_result",
          "data": {
            "text/plain": [
              "Ridge(alpha=0.01, normalize=True)"
            ]
          },
          "metadata": {},
          "execution_count": 67
        }
      ]
    },
    {
      "cell_type": "code",
      "source": [
        "#predcition\n",
        "\n",
        "rg_pred=rg.predict(x_test)\n",
        "rg_pred"
      ],
      "metadata": {
        "id": "mCBqlIxBX7SH",
        "outputId": "96816798-bc2b-4989-c263-c1c84c1e12b7",
        "colab": {
          "base_uri": "https://localhost:8080/"
        }
      },
      "execution_count": null,
      "outputs": [
        {
          "output_type": "execute_result",
          "data": {
            "text/plain": [
              "array([11.3503319 ,  9.40271188, 10.62045721, 13.06152058,  6.64934028,\n",
              "        7.75056414, 12.69998731,  7.42180765, 10.20385932, 11.20535041,\n",
              "        7.36946886,  6.95584598, 11.73208817,  8.89490382,  5.71270029,\n",
              "       10.33034663, 10.90330594, 13.21775802,  6.09567894, 10.15616016,\n",
              "       11.15539225, 11.16810867,  8.69775252,  8.75004047,  8.18027027,\n",
              "        7.09526634, 11.54078385,  7.4669675 , 10.031995  ,  6.49031505,\n",
              "       11.17265317,  5.49271553, 10.81201501, 11.14088588, 10.16788329,\n",
              "        8.3858373 , 11.62639508,  9.24569774, 10.17521397, 11.23891775,\n",
              "       11.42777561,  5.90288508, 12.39846116, 11.92544657,  9.7850577 ,\n",
              "        7.96969021, 10.46839735,  6.38991469,  6.45940468, 12.06718219,\n",
              "        4.85912977,  7.17250148, 12.27041376,  9.3199257 ,  7.86256466,\n",
              "       10.06531962, 12.12429558, 10.86411742, 11.55281272,  9.12899621,\n",
              "        7.17566821,  7.97634361,  9.31741371, 12.20105353,  9.5384616 ,\n",
              "       12.50012813, 13.61640755,  9.71279711, 10.02374695, 11.05939639,\n",
              "       11.80173863, 10.33276554,  7.0789876 , 11.90413511, 10.62329825,\n",
              "        8.89775597, 12.0330469 ,  8.14326263,  9.80945855, 10.11243404,\n",
              "        7.96832511, 10.32432125, 12.41235753,  8.31983171,  7.07323817,\n",
              "       10.1239793 ,  6.15691701,  8.581394  , 11.29895809, 12.74833267,\n",
              "       10.6616917 ,  8.81103212, 10.99225554, 10.48050023,  6.92733161,\n",
              "       11.10243959,  8.82523225, 10.99872571, 11.66043727,  9.68261961,\n",
              "        9.97131819, 11.04368997,  5.83126162, 10.42430846, 10.62782636,\n",
              "        9.78129739, 10.47639074, 10.24057286,  8.66096586, 13.40105077,\n",
              "       10.15404698,  9.7567705 ,  7.75437346, 10.38507479, 12.62239219,\n",
              "       10.01291669,  3.83841509,  6.92472865, 14.92939599,  8.42582591,\n",
              "        7.10750813,  6.44388338,  9.17256804, 12.1117261 ,  7.15420959,\n",
              "       11.55202468, 10.33347283,  4.18588566,  8.08906197, 10.25207591,\n",
              "        9.62781505, 10.86972835,  4.26307627, 12.18086313,  6.01287869,\n",
              "       11.45945726, 12.25407193,  9.94641808,  9.75189008, 10.67665519,\n",
              "        8.29437631, 11.64981022,  7.90777692, 10.78793142,  8.57297479,\n",
              "       11.67988268,  9.62881506, 10.16854835,  6.53667063,  9.74720802,\n",
              "       11.35500692,  7.42255388, 13.42870252,  7.72880696,  6.91229838,\n",
              "        8.21543634, 11.07464128, 10.21459397,  8.49922569, 10.03366958,\n",
              "        6.10868744, 10.64299855,  8.48267385,  8.6591172 , 10.60977618,\n",
              "        9.81482502,  6.63182678,  9.83662388,  9.78768073,  9.91800279,\n",
              "        9.23599283, 10.49509899,  6.39730457, 11.61204127,  7.92603891,\n",
              "       10.24859318, 11.42803747,  6.83008801, 10.26181963, 11.14973278,\n",
              "       12.40637975,  9.81767941, 10.80141455, 10.99536883,  9.91878856,\n",
              "        8.77329601,  8.96897614, 14.22936744, 10.84165467, 10.00574096,\n",
              "        6.49854517, 10.5185617 , 11.55127643,  6.99505303, 12.64906161,\n",
              "        6.49173365,  6.78995314,  7.73432824, 10.71108063, 10.07782429,\n",
              "        7.56387118, 10.10328059, 15.45750248,  8.75070017, 11.13347962,\n",
              "       11.17500559, 12.13466695,  6.64334224,  8.51151634,  9.08370663,\n",
              "        9.89003657, 10.56459942,  9.68624289, 11.89374733, 13.47059952,\n",
              "       10.16312902,  8.85510936,  6.57495711,  8.72183119,  7.65722754,\n",
              "        8.43681526, 10.67468854, 10.90184023, 13.38526436,  8.97702334,\n",
              "       10.73743544,  6.08537433,  7.53754601,  8.94800228, 12.88039086,\n",
              "       12.18193132, 10.58339147,  9.74609208, 11.37265796,  9.55640366,\n",
              "        7.74594601, 12.38074566, 11.13847571, 10.00033799,  6.87297975,\n",
              "        9.82722697, 10.84489777,  8.79524417,  7.97726115, 11.74696578,\n",
              "       10.51956349,  9.95844189, 10.17072362,  9.40242774,  9.93278315,\n",
              "       15.40358731,  8.52900488,  6.01998495, 11.26128046,  9.33262637,\n",
              "        6.26794096,  7.56656639, 11.29514669, 11.80686795,  9.25784444,\n",
              "       11.30775348,  8.82298294, 11.76153124,  8.98419332, 12.34883155,\n",
              "        7.2918991 , 11.87828285, 12.59401518,  5.99722113, 11.29115678,\n",
              "        7.01690662, 11.21197878,  8.78902681, 12.39532576,  8.24845325,\n",
              "       10.6227356 , 11.45303574,  8.67345987, 12.62035603,  7.2004873 ,\n",
              "       10.30682206,  7.86788948, 11.29789712, 11.82955939,  7.80911524,\n",
              "       12.56306022,  6.52601578,  6.88087782,  8.0236292 , 10.25202979,\n",
              "       10.20755543, 13.68775805, 10.11688091, 11.96562243, 11.21107298,\n",
              "        6.62813648, 13.71321948, 11.51559025,  8.44467745,  9.18957679,\n",
              "       12.98374549,  6.9151117 , 10.77145896, 10.73938076,  9.2032907 ,\n",
              "       10.50168535, 13.13553135,  6.57583448,  8.31615999,  8.63882752,\n",
              "        9.13452374,  7.67530391, 13.1763449 ,  9.00931487,  8.42265557,\n",
              "        9.33715361,  9.86388212,  6.5810177 , 11.07510886,  8.5029312 ,\n",
              "        9.85973706,  7.21262772,  9.39147212, 12.77374744, 10.44051594,\n",
              "        9.19442229,  8.51122321,  9.48373262,  9.28329573, 13.35864276,\n",
              "        6.49362281, 14.07745605, 12.15613433,  6.05431204, 10.90884497,\n",
              "        6.81885188, 11.01296786,  9.22893595, 12.24741766,  6.51955718,\n",
              "        9.95863045, 12.62730131, 10.32749231, 11.89637658, 13.78232682,\n",
              "       11.71570403, 11.44080735,  7.88982538,  8.34614046,  9.01848098,\n",
              "       12.13105004,  9.09925315,  6.00544866, 10.95275404, 11.13702877,\n",
              "        9.79434818,  9.25678089, 12.91222004,  9.84843172, 10.96608073,\n",
              "        9.68119716, 13.73356394, 10.30079008, 13.07522079, 14.63772812,\n",
              "        6.91342995, 10.78574847,  9.17929033,  9.8213376 , 10.00926976,\n",
              "        6.86979629, 10.57944552,  6.31217486, 10.63415377,  6.96939495,\n",
              "       10.77156695, 10.96792215, 10.27687679,  8.69819387, 10.59363625,\n",
              "       12.35390584, 10.26660821,  7.53288249,  7.01314541,  9.19001105,\n",
              "       12.88378742,  9.26216083,  8.09470288, 11.0172992 ,  8.13581735,\n",
              "        8.66595552,  9.85802548, 12.50298753,  8.92959784,  9.50330858,\n",
              "        7.63578915,  9.88095017, 10.74824073,  9.02380674, 10.81006743,\n",
              "       11.29580546, 10.18394604,  9.21577296, 10.7460923 ,  7.01183754,\n",
              "        9.87939209,  8.30739755,  9.85305219,  7.47923054, 10.46109607,\n",
              "        8.3960577 , 10.46361611,  7.83468758, 10.36495018, 11.06634375,\n",
              "       11.07729628, 11.89371785,  7.27774063,  9.48929474,  7.52432012,\n",
              "       10.43834307, 13.20000277, 11.40799564,  9.55356539,  6.55123577,\n",
              "       10.81345761, 10.08163483, 11.44010916, 11.39453958,  8.76215485,\n",
              "       10.21094848, 10.7000037 ,  9.0547782 ,  9.11700431,  7.73727944,\n",
              "       12.47667833, 11.54197014, 11.2243897 ,  9.37224552,  7.48653346,\n",
              "        9.52253351, 11.63278561,  7.3089628 , 12.0727071 , 11.12248387,\n",
              "       10.5081312 ,  9.70413634,  9.74170231, 10.53313042,  6.17985138,\n",
              "        6.67019135, 11.06274918,  9.13947556,  6.43425917, 11.13681993,\n",
              "       12.93561424, 13.15456019,  7.68869524,  7.64551516,  7.59275728,\n",
              "       11.23999369, 10.21703814,  7.01220182, 11.32022181,  9.34818744,\n",
              "       11.28575252,  8.45247066, 10.19781709, 16.39408497, 13.13656392,\n",
              "       15.73939919,  9.63943018, 10.1717113 ,  9.66221962,  9.71692207,\n",
              "       10.11049942, 12.24302477, 10.78590055,  8.38229331,  6.94397183,\n",
              "        8.64047609, 11.61727473, 10.66025552,  8.62783736,  8.76524594,\n",
              "        9.7524931 , 12.94915449,  8.71975537, 11.46731304, 10.47201084,\n",
              "       13.20724365, 10.15318349,  9.05058505, 11.88876193, 12.30915073,\n",
              "       10.64218391,  9.79035551, 10.32368951, 11.96148339,  9.80748177,\n",
              "        8.10344529,  9.20812066, 10.72804848, 10.71868356, 11.79711789,\n",
              "       11.23973986, 12.50563081, 11.43626333, 12.05192608,  6.36691693,\n",
              "       11.22996393,  8.32962905, 11.20926893,  8.08712557, 10.00754037,\n",
              "        7.57853099, 15.47353076,  6.64603875,  8.72882224,  7.09198277,\n",
              "        9.83962943, 11.43724541, 10.05611964, 10.44095487, 14.77619337,\n",
              "       13.15188219, 10.78926456,  6.90051665,  6.24639454, 11.18178693,\n",
              "       10.68199123,  8.87139998,  6.44973003, 10.96372504, 11.23989985,\n",
              "        7.15291695, 10.99506388,  9.69057714,  8.29681831, 13.40187783,\n",
              "        7.47303687, 10.3680484 ,  7.46102807, 11.65558958,  9.68172814,\n",
              "       12.00133954, 12.10006614,  9.93425745, 12.2591065 , 11.07755762,\n",
              "        8.90274002,  9.12145815,  9.92824584, 10.27642999, 11.49020747,\n",
              "       11.146803  , 12.0419965 , 10.6357526 , 10.98928171,  8.7293777 ,\n",
              "       14.73960775, 12.57727239, 11.82900267,  6.94028889,  8.93758665,\n",
              "        8.57944494, 11.43217861, 11.55180339,  7.49624476, 10.66394959,\n",
              "       15.2939399 , 13.10959024, 11.38557356,  9.88455854, 12.30499169,\n",
              "        9.72084983, 10.64108869, 10.14040526,  6.38483177, 11.72560093,\n",
              "        7.69841096,  8.3831763 , 11.01002252,  7.02696397,  8.80094717,\n",
              "        6.24147088,  6.00966477,  9.0227246 ,  7.3090416 , 11.89003297,\n",
              "        6.61141606,  9.92812399,  8.79765601, 11.83378641, 11.2078162 ,\n",
              "       10.4009154 , 12.02919716,  8.80473106, 11.09520332,  6.18293608,\n",
              "       11.67810277,  9.93702149,  8.43267346, 11.06460472,  8.6784934 ,\n",
              "        8.06794379,  9.18142898, 10.8145378 , 10.07995355,  6.60953577,\n",
              "       11.36519074,  8.66343742, 10.21665831,  9.34686842, 12.78266724,\n",
              "       12.98155183, 12.35030672, 10.52120522, 10.57406212, 10.34123867,\n",
              "       12.53927663, 12.75297349,  7.09373506,  9.24883555, 12.80565345,\n",
              "       11.65150751, 11.37418926,  6.95495401, 11.75474144, 12.27789353,\n",
              "       10.47954508,  7.53967471, 12.30138335, 13.09886175,  9.27082769,\n",
              "       10.16059168, 11.89610075,  3.68193512,  9.33088201,  9.05508285,\n",
              "        9.59235387, 10.44105147,  9.33688514,  8.04302537,  6.19748602,\n",
              "       10.04854547, 10.50678632,  9.33712007,  7.75232695, 10.96071601,\n",
              "        9.18612208, 12.02884406, 13.10174026, 14.46678521, 10.96498796,\n",
              "       11.55941948,  9.84961515, 12.38151311, 10.28241857,  8.94417549,\n",
              "       11.16629575, 10.22182514, 11.42881554, 10.47356055,  7.22882024,\n",
              "       11.40863714,  6.81755056, 10.58032925,  9.31103444, 11.8378822 ,\n",
              "        7.05983167,  7.19098085, 12.62114411,  7.67714993,  8.37984469,\n",
              "       10.27205058, 10.97692096, 10.43423425, 10.58401713,  7.96253841,\n",
              "       11.7252637 ,  6.65325209, 10.34894589,  8.50112288, 11.2751896 ,\n",
              "        7.93553336, 11.59238536, 11.09699573, 11.05149926, 10.40501269,\n",
              "        4.42880593,  9.92646368, 11.14005044, 12.63800829, 10.67334233,\n",
              "       10.26244259,  6.60375353,  7.37267619,  9.60181732, 11.16046953,\n",
              "        7.93014303, 11.66241167, 11.34098942, 10.11867951,  6.98884268,\n",
              "       10.91319141,  4.30259357,  9.59337184, 13.47902858, 12.84108969,\n",
              "       14.402579  ,  9.25427949,  7.23860612, 10.60202762,  8.85977917,\n",
              "        9.22838484,  6.92424207, 11.33555951,  9.11299572, 10.7395265 ,\n",
              "       11.87058752, 11.16186108, 11.34325837, 10.97210114,  8.22064397,\n",
              "        6.80984554,  8.92573341,  9.46849248, 12.77240205, 10.44696536,\n",
              "        9.06480282,  9.59454012, 12.18494419, 12.13035139, 11.06017177,\n",
              "       10.39368737,  9.10582035,  7.31256345,  7.78430852, 12.24955037,\n",
              "        8.12082593,  9.29211269, 12.40258475, 10.0649946 , 10.94874457,\n",
              "       12.50820974, 12.13688558,  7.14817575, 10.29814541,  6.22330605,\n",
              "        6.8580199 , 10.44030182,  6.32623085,  8.05733712,  6.16264226,\n",
              "        6.27897969, 10.13933833,  8.94450942,  5.8486279 , 12.29172004,\n",
              "       12.0992622 , 11.05873779, 11.81659445,  5.83865204, 13.34498335,\n",
              "       12.50582441,  9.46033176,  6.92040102,  7.58996814, 10.78254303,\n",
              "        9.62412147, 11.55607106,  8.68401422,  4.74112314,  9.43283058,\n",
              "        7.69359826,  9.41684645, 13.16164593, 11.72123259, 11.28503219,\n",
              "        9.08620348, 10.59930026, 12.46292027, 12.05293969, 12.79075974,\n",
              "       10.55802567,  7.79941384, 11.72592573,  9.32123533,  9.07900548,\n",
              "       11.28266027, 10.82304577, 10.15410229,  7.45154532, 11.15131908,\n",
              "        8.61444605, 10.6924523 , 12.94797085,  9.48577088,  7.59009054,\n",
              "       12.84269989, 13.03758005,  8.66303839,  7.80232743, 11.35348967,\n",
              "        9.17992526, 11.2389936 , 11.6663789 , 10.23497553, 11.25443814,\n",
              "        6.53334498, 13.75563972,  7.74307205,  9.47906651, 10.53711796,\n",
              "        8.91360719, 10.42698976,  6.33263138, 11.18864666,  9.65586191,\n",
              "        8.78233006, 11.19302552,  9.22224082, 10.44381802, 11.27032764,\n",
              "       11.74708009, 12.34425512,  8.56065988, 11.74790548, 10.96229707,\n",
              "       12.46772576, 10.20575414, 12.55718179,  7.41248304,  9.0067187 ,\n",
              "        9.79190176])"
            ]
          },
          "metadata": {},
          "execution_count": 68
        }
      ]
    },
    {
      "cell_type": "code",
      "source": [
        "\n",
        "#coef\n",
        "rg.coef_"
      ],
      "metadata": {
        "id": "2zGNw9cUX7Wl",
        "outputId": "29c2f550-e70a-494b-af86-a5d03586abba",
        "colab": {
          "base_uri": "https://localhost:8080/"
        }
      },
      "execution_count": null,
      "outputs": [
        {
          "output_type": "execute_result",
          "data": {
            "text/plain": [
              "array([-0.32518809, -0.70434171,  0.25771771,  0.93535132,  0.89751973,\n",
              "       -1.3907991 ,  0.05416814,  1.70163809])"
            ]
          },
          "metadata": {},
          "execution_count": 69
        }
      ]
    },
    {
      "cell_type": "code",
      "source": [
        "\n",
        "metrics.r2_score(y_test,rg_pred)\n"
      ],
      "metadata": {
        "id": "JqkqWprUYMbm",
        "outputId": "628144a6-1f84-43e9-aaa3-9106b83aa6e8",
        "colab": {
          "base_uri": "https://localhost:8080/"
        }
      },
      "execution_count": null,
      "outputs": [
        {
          "output_type": "execute_result",
          "data": {
            "text/plain": [
              "0.44518050502663753"
            ]
          },
          "metadata": {},
          "execution_count": 70
        }
      ]
    },
    {
      "cell_type": "code",
      "source": [
        "\n",
        "np.sqrt(mean_squared_error(y_test,rg_pred))"
      ],
      "metadata": {
        "id": "TyfjXf6vYMg2",
        "outputId": "3a1cb0d8-1d77-4428-8e70-4ac0a0a12259",
        "colab": {
          "base_uri": "https://localhost:8080/"
        }
      },
      "execution_count": null,
      "outputs": [
        {
          "output_type": "execute_result",
          "data": {
            "text/plain": [
              "2.5227947170542646"
            ]
          },
          "metadata": {},
          "execution_count": 71
        }
      ]
    }
  ]
}